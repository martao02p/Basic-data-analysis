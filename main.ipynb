{
 "cells": [
  {
   "attachments": {},
   "cell_type": "markdown",
   "metadata": {},
   "source": [
    "# Analiza eksploracyjna i test statystyczny"
   ]
  },
  {
   "attachments": {},
   "cell_type": "markdown",
   "metadata": {},
   "source": [
    "#### <b>Marta Szymańska</b> \n",
    "##### <b>Indeks: 151481</b>\n",
    "___"
   ]
  },
  {
   "attachments": {},
   "cell_type": "markdown",
   "metadata": {},
   "source": [
    "### Opis zbioru danych"
   ]
  },
  {
   "attachments": {},
   "cell_type": "markdown",
   "metadata": {},
   "source": [
    "Muzykoterapia, czyli MT, polega na wykorzystaniu muzyki do poprawy stresu, nastroju i ogólnego stanu zdrowia psychicznego danej osoby. MT jest również uznawana za praktykę opartą na dowodach, wykorzystującą muzykę jako katalizator dla „szczęśliwych” hormonów, takich jak oksytocyna. MT wykorzystuje szeroką gamę różnych gatunków."
   ]
  },
  {
   "attachments": {},
   "cell_type": "markdown",
   "metadata": {},
   "source": [
    "Zbiór danych, który udało mi się znaleźć, ma na celu określenie, jakie korelacje istnieją między indywidualnym gustem muzycznym, a zgłaszanym przez badanych zdrowiem psychicznym. W idealnym przypadku odkrycia te mogłyby przyczynić się do bardziej świadomego zastosowania MT lub po prostu dostarczyć interesujących widoków na temat umysłu."
   ]
  },
  {
   "attachments": {},
   "cell_type": "markdown",
   "metadata": {},
   "source": [
    "Zestaw danych, który wykorzystałam, pochodzi z platformy internetowej kaggle.com: https://www.kaggle.com/datasets/catherinerasgaitis/mxmh-survey-results.\n",
    "<br>\n",
    "Wybrane dane obejmują próbę 736 badanych osób. Respondenci nie byli ograniczeni wiekiem ani lokalizacją. Ankieta była przeprowadzana wśród różnych osób, szerzona głównie poprzez platformy takie jak Discord, Reddit i inne social media. Plakaty i „wizytówki” były również używane do reklamowania formularza w bibliotekach, parkach i innych miejscach publicznych. \n",
    "<br>\n",
    "<b>Blok 1</b>: Gatunki muzyczne <br>\n",
    "Ankietowani oceniają, jak często słuchają 16 gatunków muzycznych, gdzie mogą wybrać:\n",
    "- Nigdy\n",
    "- Rzadko\n",
    "- Czasami\n",
    "- Bardzo często <br>\n",
    "\n",
    "<b>Blok 2</b>: Zdrowie psychiczne <br>\n",
    "Respondenci oceniają lęk, depresję, bezsenność i zaburzenia obsesyjno-kompulsyjne w skali od 0 do 10, gdzie: <br>\n",
    "0 - nie doświadczam tego. <br>\n",
    "10 - Doświadczam tego regularnie, stale/lub do skrajności. <br>\n",
    "<br>\n",
    "Baza zawiera 33 atrubuty, tj.:\n",
    "Nazwa atrybutu - Rodzaj danych \n",
    "- <b>Timestamp</b> - Jakościowe <br>       \n",
    "- <b>Age</b> - Ilościowe<br> \n",
    "- <b>Primary streaming service</b> - Jakościowe<br> \n",
    "- <b>Hours per day</b> - Ilościowe<br> \n",
    "- <b>While working</b> - Jakościowe<br> \n",
    "- <b>Instrumentalist</b> - Jakościowe<br> \n",
    "- <b>Composer</b> - Jakościowe<br> \n",
    "- <b>Fav genre</b> - Jakościowe<br> \n",
    "- <b>Exploratory</b> - Jakościowe<br> \n",
    "- <b>Foreign languages</b> - Jakościowe<br> \n",
    "- <b>BPM</b> - Ilościowe<br> \n",
    "- <b>Frequency [Classical]</b> - Jakościowe<br> \n",
    "- <b>Frequency [Country]</b> - Jakościowe<br> \n",
    "- <b>Frequency [EDM]</b> - Jakościowe<br> \n",
    "- <b>Frequency [Folk]</b> - Jakościowe<br> \n",
    "- <b>Frequency [Gospel]</b> - Jakościowe<br> \n",
    "- <b>Frequency [Hip hop]</b> - Jakościowe<br> \n",
    "- <b>Frequency [Jazz]</b> - Jakościowe<br> \n",
    "- <b>Frequency [K pop]</b> - Jakościowe<br> \n",
    "- <b>Frequency [Latin]</b> - Jakościowe<br> \n",
    "- <b>Frequency [Lofi]</b> - Jakościowe<br> \n",
    "- <b>Frequency [Metal]</b> - Jakościowe<br> \n",
    "- <b>Frequency [Pop]</b> - Jakościowe<br> \n",
    "- <b>Frequency [R&B]</b> - Jakościowe<br> \n",
    "- <b>Frequency [Rap]</b> - Jakościowe<br> \n",
    "- <b>Frequency [Rock]</b> - Jakościowe<br> \n",
    "- <b>Frequency [Video game music]</b> - Jakościowe<br> \n",
    "- <b>Anxiety</b> - Ilościowe<br> \n",
    "- <b>Depression</b> - Ilościowe<br> \n",
    "- <b>Insomnia</b> - Ilościowe<br> \n",
    "- <b>OCD</b> - Ilościowe<br> \n",
    "- <b>Music effects</b> - Jakościowe<br> \n",
    "- <b>Permissions</b> - Jakościowe<br> \n"
   ]
  },
  {
   "attachments": {},
   "cell_type": "markdown",
   "metadata": {},
   "source": [
    "### Analiza eksploracyjna"
   ]
  },
  {
   "cell_type": "markdown",
   "metadata": {},
   "source": [
    "Wczytanie danych:"
   ]
  },
  {
   "cell_type": "code",
   "execution_count": 1,
   "metadata": {
    "vscode": {
     "languageId": "r"
    }
   },
   "outputs": [],
   "source": [
    "dirtyData <- read.csv('mxmh_survey_results.csv')"
   ]
  },
  {
   "attachments": {},
   "cell_type": "markdown",
   "metadata": {},
   "source": [
    "Przed przystąpieniem do analizy należy wyczyszcić dane. W tym przypadku zostały usunięte wszystkie wiersze, w których brakowało wartości numerycznych oraz niektórych jakościowych. Z tego powodu liczba osób zmniejszyła się."
   ]
  },
  {
   "cell_type": "code",
   "execution_count": 2,
   "metadata": {
    "vscode": {
     "languageId": "r"
    }
   },
   "outputs": [
    {
     "data": {
      "text/html": [
       "<table class=\"dataframe\">\n",
       "<caption>A data.frame: 6 × 33</caption>\n",
       "<thead>\n",
       "\t<tr><th></th><th scope=col>Timestamp</th><th scope=col>Age</th><th scope=col>Primary.streaming.service</th><th scope=col>Hours.per.day</th><th scope=col>While.working</th><th scope=col>Instrumentalist</th><th scope=col>Composer</th><th scope=col>Fav.genre</th><th scope=col>Exploratory</th><th scope=col>Foreign.languages</th><th scope=col>⋯</th><th scope=col>Frequency..R.B.</th><th scope=col>Frequency..Rap.</th><th scope=col>Frequency..Rock.</th><th scope=col>Frequency..Video.game.music.</th><th scope=col>Anxiety</th><th scope=col>Depression</th><th scope=col>Insomnia</th><th scope=col>OCD</th><th scope=col>Music.effects</th><th scope=col>Permissions</th></tr>\n",
       "\t<tr><th></th><th scope=col>&lt;chr&gt;</th><th scope=col>&lt;int&gt;</th><th scope=col>&lt;chr&gt;</th><th scope=col>&lt;dbl&gt;</th><th scope=col>&lt;chr&gt;</th><th scope=col>&lt;chr&gt;</th><th scope=col>&lt;chr&gt;</th><th scope=col>&lt;chr&gt;</th><th scope=col>&lt;chr&gt;</th><th scope=col>&lt;chr&gt;</th><th scope=col>⋯</th><th scope=col>&lt;chr&gt;</th><th scope=col>&lt;chr&gt;</th><th scope=col>&lt;chr&gt;</th><th scope=col>&lt;chr&gt;</th><th scope=col>&lt;dbl&gt;</th><th scope=col>&lt;dbl&gt;</th><th scope=col>&lt;dbl&gt;</th><th scope=col>&lt;dbl&gt;</th><th scope=col>&lt;chr&gt;</th><th scope=col>&lt;chr&gt;</th></tr>\n",
       "</thead>\n",
       "<tbody>\n",
       "\t<tr><th scope=row>3</th><td>8/27/2022 21:28:18</td><td>18</td><td>Spotify      </td><td>4.0</td><td>No </td><td>No </td><td>No </td><td>Video game music</td><td>No </td><td>Yes</td><td>⋯</td><td>Never          </td><td>Rarely         </td><td>Rarely         </td><td>Very frequently</td><td>7</td><td>7</td><td>10</td><td>2</td><td>No effect</td><td>I understand.</td></tr>\n",
       "\t<tr><th scope=row>4</th><td>8/27/2022 21:40:40</td><td>61</td><td>YouTube Music</td><td>2.5</td><td>Yes</td><td>No </td><td>Yes</td><td>Jazz            </td><td>Yes</td><td>Yes</td><td>⋯</td><td>Sometimes      </td><td>Never          </td><td>Never          </td><td>Never          </td><td>9</td><td>7</td><td> 3</td><td>3</td><td>Improve  </td><td>I understand.</td></tr>\n",
       "\t<tr><th scope=row>5</th><td>8/27/2022 21:54:47</td><td>18</td><td><span style=white-space:pre-wrap>Spotify      </span></td><td>4.0</td><td>Yes</td><td>No </td><td>No </td><td><span style=white-space:pre-wrap>R&amp;B             </span></td><td>Yes</td><td>No </td><td>⋯</td><td>Very frequently</td><td>Very frequently</td><td><span style=white-space:pre-wrap>Never          </span></td><td><span style=white-space:pre-wrap>Rarely         </span></td><td>7</td><td>2</td><td> 5</td><td>9</td><td><span style=white-space:pre-wrap>Improve  </span></td><td>I understand.</td></tr>\n",
       "\t<tr><th scope=row>6</th><td>8/27/2022 21:56:50</td><td>18</td><td>Spotify      </td><td>5.0</td><td>Yes</td><td>Yes</td><td>Yes</td><td>Jazz            </td><td>Yes</td><td>Yes</td><td>⋯</td><td>Very frequently</td><td>Very frequently</td><td>Very frequently</td><td>Never          </td><td>8</td><td>8</td><td> 7</td><td>7</td><td>Improve  </td><td>I understand.</td></tr>\n",
       "\t<tr><th scope=row>7</th><td>8/27/2022 22:00:29</td><td>18</td><td>YouTube Music</td><td>3.0</td><td>Yes</td><td>Yes</td><td>No </td><td>Video game music</td><td>Yes</td><td>Yes</td><td>⋯</td><td>Rarely         </td><td>Never          </td><td>Never          </td><td>Sometimes      </td><td>4</td><td>8</td><td> 6</td><td>0</td><td>Improve  </td><td>I understand.</td></tr>\n",
       "\t<tr><th scope=row>8</th><td>8/27/2022 22:18:59</td><td>21</td><td>Spotify      </td><td>1.0</td><td>Yes</td><td>No </td><td>No </td><td>K pop           </td><td>Yes</td><td>Yes</td><td>⋯</td><td>Sometimes      </td><td>Rarely         </td><td>Never          </td><td>Rarely         </td><td>5</td><td>3</td><td> 5</td><td>3</td><td>Improve  </td><td>I understand.</td></tr>\n",
       "</tbody>\n",
       "</table>\n"
      ],
      "text/latex": [
       "A data.frame: 6 × 33\n",
       "\\begin{tabular}{r|lllllllllllllllllllll}\n",
       "  & Timestamp & Age & Primary.streaming.service & Hours.per.day & While.working & Instrumentalist & Composer & Fav.genre & Exploratory & Foreign.languages & ⋯ & Frequency..R.B. & Frequency..Rap. & Frequency..Rock. & Frequency..Video.game.music. & Anxiety & Depression & Insomnia & OCD & Music.effects & Permissions\\\\\n",
       "  & <chr> & <int> & <chr> & <dbl> & <chr> & <chr> & <chr> & <chr> & <chr> & <chr> & ⋯ & <chr> & <chr> & <chr> & <chr> & <dbl> & <dbl> & <dbl> & <dbl> & <chr> & <chr>\\\\\n",
       "\\hline\n",
       "\t3 & 8/27/2022 21:28:18 & 18 & Spotify       & 4.0 & No  & No  & No  & Video game music & No  & Yes & ⋯ & Never           & Rarely          & Rarely          & Very frequently & 7 & 7 & 10 & 2 & No effect & I understand.\\\\\n",
       "\t4 & 8/27/2022 21:40:40 & 61 & YouTube Music & 2.5 & Yes & No  & Yes & Jazz             & Yes & Yes & ⋯ & Sometimes       & Never           & Never           & Never           & 9 & 7 &  3 & 3 & Improve   & I understand.\\\\\n",
       "\t5 & 8/27/2022 21:54:47 & 18 & Spotify       & 4.0 & Yes & No  & No  & R\\&B              & Yes & No  & ⋯ & Very frequently & Very frequently & Never           & Rarely          & 7 & 2 &  5 & 9 & Improve   & I understand.\\\\\n",
       "\t6 & 8/27/2022 21:56:50 & 18 & Spotify       & 5.0 & Yes & Yes & Yes & Jazz             & Yes & Yes & ⋯ & Very frequently & Very frequently & Very frequently & Never           & 8 & 8 &  7 & 7 & Improve   & I understand.\\\\\n",
       "\t7 & 8/27/2022 22:00:29 & 18 & YouTube Music & 3.0 & Yes & Yes & No  & Video game music & Yes & Yes & ⋯ & Rarely          & Never           & Never           & Sometimes       & 4 & 8 &  6 & 0 & Improve   & I understand.\\\\\n",
       "\t8 & 8/27/2022 22:18:59 & 21 & Spotify       & 1.0 & Yes & No  & No  & K pop            & Yes & Yes & ⋯ & Sometimes       & Rarely          & Never           & Rarely          & 5 & 3 &  5 & 3 & Improve   & I understand.\\\\\n",
       "\\end{tabular}\n"
      ],
      "text/markdown": [
       "\n",
       "A data.frame: 6 × 33\n",
       "\n",
       "| <!--/--> | Timestamp &lt;chr&gt; | Age &lt;int&gt; | Primary.streaming.service &lt;chr&gt; | Hours.per.day &lt;dbl&gt; | While.working &lt;chr&gt; | Instrumentalist &lt;chr&gt; | Composer &lt;chr&gt; | Fav.genre &lt;chr&gt; | Exploratory &lt;chr&gt; | Foreign.languages &lt;chr&gt; | ⋯ ⋯ | Frequency..R.B. &lt;chr&gt; | Frequency..Rap. &lt;chr&gt; | Frequency..Rock. &lt;chr&gt; | Frequency..Video.game.music. &lt;chr&gt; | Anxiety &lt;dbl&gt; | Depression &lt;dbl&gt; | Insomnia &lt;dbl&gt; | OCD &lt;dbl&gt; | Music.effects &lt;chr&gt; | Permissions &lt;chr&gt; |\n",
       "|---|---|---|---|---|---|---|---|---|---|---|---|---|---|---|---|---|---|---|---|---|---|\n",
       "| 3 | 8/27/2022 21:28:18 | 18 | Spotify       | 4.0 | No  | No  | No  | Video game music | No  | Yes | ⋯ | Never           | Rarely          | Rarely          | Very frequently | 7 | 7 | 10 | 2 | No effect | I understand. |\n",
       "| 4 | 8/27/2022 21:40:40 | 61 | YouTube Music | 2.5 | Yes | No  | Yes | Jazz             | Yes | Yes | ⋯ | Sometimes       | Never           | Never           | Never           | 9 | 7 |  3 | 3 | Improve   | I understand. |\n",
       "| 5 | 8/27/2022 21:54:47 | 18 | Spotify       | 4.0 | Yes | No  | No  | R&amp;B              | Yes | No  | ⋯ | Very frequently | Very frequently | Never           | Rarely          | 7 | 2 |  5 | 9 | Improve   | I understand. |\n",
       "| 6 | 8/27/2022 21:56:50 | 18 | Spotify       | 5.0 | Yes | Yes | Yes | Jazz             | Yes | Yes | ⋯ | Very frequently | Very frequently | Very frequently | Never           | 8 | 8 |  7 | 7 | Improve   | I understand. |\n",
       "| 7 | 8/27/2022 22:00:29 | 18 | YouTube Music | 3.0 | Yes | Yes | No  | Video game music | Yes | Yes | ⋯ | Rarely          | Never           | Never           | Sometimes       | 4 | 8 |  6 | 0 | Improve   | I understand. |\n",
       "| 8 | 8/27/2022 22:18:59 | 21 | Spotify       | 1.0 | Yes | No  | No  | K pop            | Yes | Yes | ⋯ | Sometimes       | Rarely          | Never           | Rarely          | 5 | 3 |  5 | 3 | Improve   | I understand. |\n",
       "\n"
      ],
      "text/plain": [
       "  Timestamp          Age Primary.streaming.service Hours.per.day While.working\n",
       "3 8/27/2022 21:28:18 18  Spotify                   4.0           No           \n",
       "4 8/27/2022 21:40:40 61  YouTube Music             2.5           Yes          \n",
       "5 8/27/2022 21:54:47 18  Spotify                   4.0           Yes          \n",
       "6 8/27/2022 21:56:50 18  Spotify                   5.0           Yes          \n",
       "7 8/27/2022 22:00:29 18  YouTube Music             3.0           Yes          \n",
       "8 8/27/2022 22:18:59 21  Spotify                   1.0           Yes          \n",
       "  Instrumentalist Composer Fav.genre        Exploratory Foreign.languages ⋯\n",
       "3 No              No       Video game music No          Yes               ⋯\n",
       "4 No              Yes      Jazz             Yes         Yes               ⋯\n",
       "5 No              No       R&B              Yes         No                ⋯\n",
       "6 Yes             Yes      Jazz             Yes         Yes               ⋯\n",
       "7 Yes             No       Video game music Yes         Yes               ⋯\n",
       "8 No              No       K pop            Yes         Yes               ⋯\n",
       "  Frequency..R.B. Frequency..Rap. Frequency..Rock. Frequency..Video.game.music.\n",
       "3 Never           Rarely          Rarely           Very frequently             \n",
       "4 Sometimes       Never           Never            Never                       \n",
       "5 Very frequently Very frequently Never            Rarely                      \n",
       "6 Very frequently Very frequently Very frequently  Never                       \n",
       "7 Rarely          Never           Never            Sometimes                   \n",
       "8 Sometimes       Rarely          Never            Rarely                      \n",
       "  Anxiety Depression Insomnia OCD Music.effects Permissions  \n",
       "3 7       7          10       2   No effect     I understand.\n",
       "4 9       7           3       3   Improve       I understand.\n",
       "5 7       2           5       9   Improve       I understand.\n",
       "6 8       8           7       7   Improve       I understand.\n",
       "7 4       8           6       0   Improve       I understand.\n",
       "8 5       3           5       3   Improve       I understand."
      ]
     },
     "metadata": {},
     "output_type": "display_data"
    }
   ],
   "source": [
    "data <- subset(dirtyData,(!is.na(dirtyData[\"Age\"]) & !is.na(dirtyData[\"Anxiety\"])) & !is.na(dirtyData[\"Depression\"]) & !is.na(dirtyData[\"Insomnia\"]) & !is.na(dirtyData[\"OCD\"]) & !is.na(dirtyData[\"Hours.per.day\"]) & !is.na(dirtyData[\"BPM\"]))\n",
    "data <- data[-which(data$While.working == \"\"), ]\n",
    "data <- data[-which(data$Instrumentalist == \"\"), ]\n",
    "data <- data[-which(data$Music.effects == \"\"), ]\n",
    "data <- data[-which(data$Foreign.languages == \"\"), ]\n",
    "head(data)"
   ]
  },
  {
   "cell_type": "markdown",
   "metadata": {},
   "source": [
    "Struktura danych:"
   ]
  },
  {
   "cell_type": "code",
   "execution_count": 695,
   "metadata": {
    "vscode": {
     "languageId": "r"
    }
   },
   "outputs": [
    {
     "name": "stdout",
     "output_type": "stream",
     "text": [
      "'data.frame':\t619 obs. of  33 variables:\n",
      " $ Timestamp                   : chr  \"8/27/2022 21:28:18\" \"8/27/2022 21:40:40\" \"8/27/2022 21:54:47\" \"8/27/2022 21:56:50\" ...\n",
      " $ Age                         : int  18 61 18 18 18 21 19 18 19 19 ...\n",
      " $ Primary.streaming.service   : chr  \"Spotify\" \"YouTube Music\" \"Spotify\" \"Spotify\" ...\n",
      " $ Hours.per.day               : num  4 2.5 4 5 3 1 6 1 8 2 ...\n",
      " $ While.working               : chr  \"No\" \"Yes\" \"Yes\" \"Yes\" ...\n",
      " $ Instrumentalist             : chr  \"No\" \"No\" \"No\" \"Yes\" ...\n",
      " $ Composer                    : chr  \"No\" \"Yes\" \"No\" \"Yes\" ...\n",
      " $ Fav.genre                   : chr  \"Video game music\" \"Jazz\" \"R&B\" \"Jazz\" ...\n",
      " $ Exploratory                 : chr  \"No\" \"Yes\" \"Yes\" \"Yes\" ...\n",
      " $ Foreign.languages           : chr  \"Yes\" \"Yes\" \"No\" \"Yes\" ...\n",
      " $ BPM                         : int  132 84 107 86 66 95 94 155 125 88 ...\n",
      " $ Frequency..Classical.       : chr  \"Never\" \"Sometimes\" \"Never\" \"Rarely\" ...\n",
      " $ Frequency..Country.         : chr  \"Never\" \"Never\" \"Never\" \"Sometimes\" ...\n",
      " $ Frequency..EDM.             : chr  \"Very frequently\" \"Never\" \"Rarely\" \"Never\" ...\n",
      " $ Frequency..Folk.            : chr  \"Never\" \"Rarely\" \"Never\" \"Never\" ...\n",
      " $ Frequency..Gospel.          : chr  \"Never\" \"Sometimes\" \"Rarely\" \"Never\" ...\n",
      " $ Frequency..Hip.hop.         : chr  \"Rarely\" \"Never\" \"Very frequently\" \"Sometimes\" ...\n",
      " $ Frequency..Jazz.            : chr  \"Rarely\" \"Very frequently\" \"Never\" \"Very frequently\" ...\n",
      " $ Frequency..K.pop.           : chr  \"Very frequently\" \"Sometimes\" \"Very frequently\" \"Very frequently\" ...\n",
      " $ Frequency..Latin.           : chr  \"Never\" \"Very frequently\" \"Sometimes\" \"Rarely\" ...\n",
      " $ Frequency..Lofi.            : chr  \"Sometimes\" \"Sometimes\" \"Sometimes\" \"Very frequently\" ...\n",
      " $ Frequency..Metal.           : chr  \"Sometimes\" \"Never\" \"Never\" \"Rarely\" ...\n",
      " $ Frequency..Pop.             : chr  \"Rarely\" \"Sometimes\" \"Sometimes\" \"Very frequently\" ...\n",
      " $ Frequency..R.B.             : chr  \"Never\" \"Sometimes\" \"Very frequently\" \"Very frequently\" ...\n",
      " $ Frequency..Rap.             : chr  \"Rarely\" \"Never\" \"Very frequently\" \"Very frequently\" ...\n",
      " $ Frequency..Rock.            : chr  \"Rarely\" \"Never\" \"Never\" \"Very frequently\" ...\n",
      " $ Frequency..Video.game.music.: chr  \"Very frequently\" \"Never\" \"Rarely\" \"Never\" ...\n",
      " $ Anxiety                     : num  7 9 7 8 4 5 2 2 1 2 ...\n",
      " $ Depression                  : num  7 7 2 8 8 3 0 2 0 1 ...\n",
      " $ Insomnia                    : num  10 3 5 7 6 5 0 5 0 2 ...\n",
      " $ OCD                         : num  2 3 9 7 0 3 0 1 1 0 ...\n",
      " $ Music.effects               : chr  \"No effect\" \"Improve\" \"Improve\" \"Improve\" ...\n",
      " $ Permissions                 : chr  \"I understand.\" \"I understand.\" \"I understand.\" \"I understand.\" ...\n"
     ]
    }
   ],
   "source": [
    "str(data)"
   ]
  },
  {
   "attachments": {},
   "cell_type": "markdown",
   "metadata": {},
   "source": [
    "Zbiór danych jest dość bogaty pod względem różnyh cech, co utrudnia pełne zrozumienie treści. Z tego powodu wybrane kolumny zostały poddane analizie osobno. Dane zostaną przedstawione czytelnie i w sposób wizualny."
   ]
  },
  {
   "attachments": {},
   "cell_type": "markdown",
   "metadata": {},
   "source": [
    "### Szereg rozdzielczy przedziałowy"
   ]
  },
  {
   "attachments": {},
   "cell_type": "markdown",
   "metadata": {},
   "source": [
    "Wyliczenie rozstępu badanej cechy:"
   ]
  },
  {
   "cell_type": "code",
   "execution_count": 696,
   "metadata": {
    "vscode": {
     "languageId": "r"
    }
   },
   "outputs": [
    {
     "data": {
      "text/html": [
       "<span style=white-space:pre-wrap>'Rozstęp [w latach]:  79'</span>"
      ],
      "text/latex": [
       "'Rozstęp {[}w latach{]}:  79'"
      ],
      "text/markdown": [
       "<span style=white-space:pre-wrap>'Rozstęp [w latach]:  79'</span>"
      ],
      "text/plain": [
       "[1] \"Rozstęp [w latach]:  79\""
      ]
     },
     "metadata": {},
     "output_type": "display_data"
    }
   ],
   "source": [
    "R <- max(data$Age)-min(data$Age)\n",
    "paste(\"Rozstęp [w latach]: \",R)"
   ]
  },
  {
   "attachments": {},
   "cell_type": "markdown",
   "metadata": {},
   "source": [
    "Decyzja o liczbie przedziałów k, korzystajać ze wzorów kilku popularnych heurystyk:"
   ]
  },
  {
   "cell_type": "code",
   "execution_count": 697,
   "metadata": {
    "vscode": {
     "languageId": "r"
    }
   },
   "outputs": [
    {
     "data": {
      "text/html": [
       "<table class=\"dataframe\">\n",
       "<caption>A matrix: 4 × 1 of type dbl</caption>\n",
       "<thead>\n",
       "\t<tr><th></th><th scope=col>liczba klas</th></tr>\n",
       "</thead>\n",
       "<tbody>\n",
       "\t<tr><th scope=row>sqrt(n)</th><td>24.87971</td></tr>\n",
       "\t<tr><th scope=row>1+3.322log(n)</th><td>22.35417</td></tr>\n",
       "\t<tr><th scope=row>5log(n)</th><td>32.14053</td></tr>\n",
       "\t<tr><th scope=row>(age_max-age_min)/h</th><td>28.33637</td></tr>\n",
       "</tbody>\n",
       "</table>\n"
      ],
      "text/latex": [
       "A matrix: 4 × 1 of type dbl\n",
       "\\begin{tabular}{r|l}\n",
       "  & liczba klas\\\\\n",
       "\\hline\n",
       "\tsqrt(n) & 24.87971\\\\\n",
       "\t1+3.322log(n) & 22.35417\\\\\n",
       "\t5log(n) & 32.14053\\\\\n",
       "\t(age\\_max-age\\_min)/h & 28.33637\\\\\n",
       "\\end{tabular}\n"
      ],
      "text/markdown": [
       "\n",
       "A matrix: 4 × 1 of type dbl\n",
       "\n",
       "| <!--/--> | liczba klas |\n",
       "|---|---|\n",
       "| sqrt(n) | 24.87971 |\n",
       "| 1+3.322log(n) | 22.35417 |\n",
       "| 5log(n) | 32.14053 |\n",
       "| (age_max-age_min)/h | 28.33637 |\n",
       "\n"
      ],
      "text/plain": [
       "                    liczba klas\n",
       "sqrt(n)             24.87971   \n",
       "1+3.322log(n)       22.35417   \n",
       "5log(n)             32.14053   \n",
       "(age_max-age_min)/h 28.33637   "
      ]
     },
     "metadata": {},
     "output_type": "display_data"
    }
   ],
   "source": [
    "n <- length(data$Age)\n",
    "k1 <- sqrt(n)\n",
    "k2 <- 1+3.322*log(n)\n",
    "k3 <- 5*log(n)\n",
    "k4 <- R/(2.64*n^(-1/3)*IQR(data$Age)) # IQR - rozst˛ep mi˛edzykwartylowy\n",
    "l_klas <- matrix(c(k1,k2,k3,k4),dimnames = list(c(\"sqrt(n)\", \"1+3.322log(n)\",\"5log(n)\", \"(age_max-age_min)/h\"),c(\"liczba klas\")))\n",
    "l_klas"
   ]
  },
  {
   "attachments": {},
   "cell_type": "markdown",
   "metadata": {},
   "source": [
    "Wyliczone liczności przedziałów są zbliżone do siebie. Dwie z nich są prawie równe, zatem jako k zostaje przyjęta zaokrąglona wartość jednej z nich. "
   ]
  },
  {
   "cell_type": "code",
   "execution_count": 698,
   "metadata": {
    "vscode": {
     "languageId": "r"
    }
   },
   "outputs": [],
   "source": [
    "k <- round(k1)"
   ]
  },
  {
   "attachments": {},
   "cell_type": "markdown",
   "metadata": {},
   "source": [
    "Wyliczenie szerokości przedziałów:"
   ]
  },
  {
   "cell_type": "code",
   "execution_count": 699,
   "metadata": {
    "vscode": {
     "languageId": "r"
    }
   },
   "outputs": [
    {
     "data": {
      "text/html": [
       "<table class=\"dataframe\">\n",
       "<caption>A matrix: 2 × 1 of type dbl</caption>\n",
       "<thead>\n",
       "\t<tr><th></th><th scope=col>rozpiętość przedziału</th></tr>\n",
       "</thead>\n",
       "<tbody>\n",
       "\t<tr><th scope=row>2.64*n^(-1/3)*IQR</th><td>2.787937</td></tr>\n",
       "\t<tr><th scope=row>(age_max-age_min)/k</th><td>3.160000</td></tr>\n",
       "</tbody>\n",
       "</table>\n"
      ],
      "text/latex": [
       "A matrix: 2 × 1 of type dbl\n",
       "\\begin{tabular}{r|l}\n",
       "  & rozpiętość przedziału\\\\\n",
       "\\hline\n",
       "\t2.64*n\\textasciicircum{}(-1/3)*IQR & 2.787937\\\\\n",
       "\t(age\\_max-age\\_min)/k & 3.160000\\\\\n",
       "\\end{tabular}\n"
      ],
      "text/markdown": [
       "\n",
       "A matrix: 2 × 1 of type dbl\n",
       "\n",
       "| <!--/--> | rozpiętość przedziału |\n",
       "|---|---|\n",
       "| 2.64*n^(-1/3)*IQR | 2.787937 |\n",
       "| (age_max-age_min)/k | 3.160000 |\n",
       "\n"
      ],
      "text/plain": [
       "                    rozpiętość przedziału\n",
       "2.64*n^(-1/3)*IQR   2.787937             \n",
       "(age_max-age_min)/k 3.160000             "
      ]
     },
     "metadata": {},
     "output_type": "display_data"
    }
   ],
   "source": [
    "h1 <- 2.64*n^(-1/3)*IQR(data$Age)\n",
    "h2 <- R/k\n",
    "span_of_range <- matrix(c(h1,h2),dimnames = list(c(\"2.64*n^(-1/3)*IQR\", \"(age_max-age_min)/k\"),c(\"rozpiętość przedziału\")))\n",
    "span_of_range"
   ]
  },
  {
   "cell_type": "code",
   "execution_count": 700,
   "metadata": {
    "vscode": {
     "languageId": "r"
    }
   },
   "outputs": [],
   "source": [
    "h <- ceiling(h1)"
   ]
  },
  {
   "attachments": {},
   "cell_type": "markdown",
   "metadata": {},
   "source": [
    "Utworzenie szeregu rozdzielczego przedziałowego. Przedziały są lewostronnie otwarte i prawostronnie zamknięte. "
   ]
  },
  {
   "cell_type": "code",
   "execution_count": 701,
   "metadata": {
    "vscode": {
     "languageId": "r"
    }
   },
   "outputs": [
    {
     "data": {
      "text/html": [
       "<span style=white-space:pre-wrap>'age_min:  10'</span>"
      ],
      "text/latex": [
       "'age\\_min:  10'"
      ],
      "text/markdown": [
       "<span style=white-space:pre-wrap>'age_min:  10'</span>"
      ],
      "text/plain": [
       "[1] \"age_min:  10\""
      ]
     },
     "metadata": {},
     "output_type": "display_data"
    }
   ],
   "source": [
    "paste(\"age_min: \", min(data$Age))"
   ]
  },
  {
   "cell_type": "code",
   "execution_count": 702,
   "metadata": {
    "vscode": {
     "languageId": "r"
    }
   },
   "outputs": [
    {
     "data": {
      "text/html": [
       "<span style=white-space:pre-wrap>'Początek pierwszego przedziału:  9'</span>"
      ],
      "text/latex": [
       "'Początek pierwszego przedziału:  9'"
      ],
      "text/markdown": [
       "<span style=white-space:pre-wrap>'Początek pierwszego przedziału:  9'</span>"
      ],
      "text/plain": [
       "[1] \"Początek pierwszego przedziału:  9\""
      ]
     },
     "metadata": {},
     "output_type": "display_data"
    }
   ],
   "source": [
    "beginning <- min(data$Age) - 1\n",
    "paste(\"Początek pierwszego przedziału: \", beginning)"
   ]
  },
  {
   "attachments": {},
   "cell_type": "markdown",
   "metadata": {},
   "source": [
    "Zliczenie obserwacji w poszczególnych przedziałach:"
   ]
  },
  {
   "cell_type": "code",
   "execution_count": 703,
   "metadata": {
    "vscode": {
     "languageId": "r"
    }
   },
   "outputs": [
    {
     "data": {
      "text/html": [
       "<table class=\"dataframe\">\n",
       "<caption>A data.frame: 25 × 5</caption>\n",
       "<thead>\n",
       "\t<tr><th scope=col>nr.klasy</th><th scope=col>początek.klasy</th><th scope=col>koniec.klasy</th><th scope=col>srodek.klasy</th><th scope=col>liczebnosc.klasy</th></tr>\n",
       "\t<tr><th scope=col>&lt;int&gt;</th><th scope=col>&lt;dbl&gt;</th><th scope=col>&lt;dbl&gt;</th><th scope=col>&lt;dbl&gt;</th><th scope=col>&lt;int&gt;</th></tr>\n",
       "</thead>\n",
       "<tbody>\n",
       "\t<tr><td> 1</td><td> 9</td><td>12</td><td>10.5</td><td>  2</td></tr>\n",
       "\t<tr><td> 2</td><td>12</td><td>15</td><td>13.5</td><td> 42</td></tr>\n",
       "\t<tr><td> 3</td><td>15</td><td>18</td><td>16.5</td><td>162</td></tr>\n",
       "\t<tr><td> 4</td><td>18</td><td>21</td><td>19.5</td><td>134</td></tr>\n",
       "\t<tr><td> 5</td><td>21</td><td>24</td><td>22.5</td><td> 80</td></tr>\n",
       "\t<tr><td> 6</td><td>24</td><td>27</td><td>25.5</td><td> 50</td></tr>\n",
       "\t<tr><td> 7</td><td>27</td><td>30</td><td>28.5</td><td> 31</td></tr>\n",
       "\t<tr><td> 8</td><td>30</td><td>33</td><td>31.5</td><td> 28</td></tr>\n",
       "\t<tr><td> 9</td><td>33</td><td>36</td><td>34.5</td><td> 19</td></tr>\n",
       "\t<tr><td>10</td><td>36</td><td>39</td><td>37.5</td><td> 10</td></tr>\n",
       "\t<tr><td>11</td><td>39</td><td>42</td><td>40.5</td><td> 13</td></tr>\n",
       "\t<tr><td>12</td><td>42</td><td>45</td><td>43.5</td><td>  6</td></tr>\n",
       "\t<tr><td>13</td><td>45</td><td>48</td><td>46.5</td><td>  2</td></tr>\n",
       "\t<tr><td>14</td><td>48</td><td>51</td><td>49.5</td><td>  7</td></tr>\n",
       "\t<tr><td>15</td><td>51</td><td>54</td><td>52.5</td><td>  3</td></tr>\n",
       "\t<tr><td>16</td><td>54</td><td>57</td><td>55.5</td><td>  7</td></tr>\n",
       "\t<tr><td>17</td><td>57</td><td>60</td><td>58.5</td><td>  8</td></tr>\n",
       "\t<tr><td>18</td><td>60</td><td>63</td><td>61.5</td><td>  4</td></tr>\n",
       "\t<tr><td>19</td><td>63</td><td>66</td><td>64.5</td><td>  2</td></tr>\n",
       "\t<tr><td>20</td><td>66</td><td>69</td><td>67.5</td><td>  3</td></tr>\n",
       "\t<tr><td>21</td><td>69</td><td>72</td><td>70.5</td><td>  2</td></tr>\n",
       "\t<tr><td>22</td><td>72</td><td>75</td><td>73.5</td><td>  2</td></tr>\n",
       "\t<tr><td>23</td><td>75</td><td>78</td><td>76.5</td><td>  0</td></tr>\n",
       "\t<tr><td>24</td><td>78</td><td>81</td><td>79.5</td><td>  1</td></tr>\n",
       "\t<tr><td>25</td><td>81</td><td>84</td><td>82.5</td><td>  0</td></tr>\n",
       "</tbody>\n",
       "</table>\n"
      ],
      "text/latex": [
       "A data.frame: 25 × 5\n",
       "\\begin{tabular}{lllll}\n",
       " nr.klasy & początek.klasy & koniec.klasy & srodek.klasy & liczebnosc.klasy\\\\\n",
       " <int> & <dbl> & <dbl> & <dbl> & <int>\\\\\n",
       "\\hline\n",
       "\t  1 &  9 & 12 & 10.5 &   2\\\\\n",
       "\t  2 & 12 & 15 & 13.5 &  42\\\\\n",
       "\t  3 & 15 & 18 & 16.5 & 162\\\\\n",
       "\t  4 & 18 & 21 & 19.5 & 134\\\\\n",
       "\t  5 & 21 & 24 & 22.5 &  80\\\\\n",
       "\t  6 & 24 & 27 & 25.5 &  50\\\\\n",
       "\t  7 & 27 & 30 & 28.5 &  31\\\\\n",
       "\t  8 & 30 & 33 & 31.5 &  28\\\\\n",
       "\t  9 & 33 & 36 & 34.5 &  19\\\\\n",
       "\t 10 & 36 & 39 & 37.5 &  10\\\\\n",
       "\t 11 & 39 & 42 & 40.5 &  13\\\\\n",
       "\t 12 & 42 & 45 & 43.5 &   6\\\\\n",
       "\t 13 & 45 & 48 & 46.5 &   2\\\\\n",
       "\t 14 & 48 & 51 & 49.5 &   7\\\\\n",
       "\t 15 & 51 & 54 & 52.5 &   3\\\\\n",
       "\t 16 & 54 & 57 & 55.5 &   7\\\\\n",
       "\t 17 & 57 & 60 & 58.5 &   8\\\\\n",
       "\t 18 & 60 & 63 & 61.5 &   4\\\\\n",
       "\t 19 & 63 & 66 & 64.5 &   2\\\\\n",
       "\t 20 & 66 & 69 & 67.5 &   3\\\\\n",
       "\t 21 & 69 & 72 & 70.5 &   2\\\\\n",
       "\t 22 & 72 & 75 & 73.5 &   2\\\\\n",
       "\t 23 & 75 & 78 & 76.5 &   0\\\\\n",
       "\t 24 & 78 & 81 & 79.5 &   1\\\\\n",
       "\t 25 & 81 & 84 & 82.5 &   0\\\\\n",
       "\\end{tabular}\n"
      ],
      "text/markdown": [
       "\n",
       "A data.frame: 25 × 5\n",
       "\n",
       "| nr.klasy &lt;int&gt; | początek.klasy &lt;dbl&gt; | koniec.klasy &lt;dbl&gt; | srodek.klasy &lt;dbl&gt; | liczebnosc.klasy &lt;int&gt; |\n",
       "|---|---|---|---|---|\n",
       "|  1 |  9 | 12 | 10.5 |   2 |\n",
       "|  2 | 12 | 15 | 13.5 |  42 |\n",
       "|  3 | 15 | 18 | 16.5 | 162 |\n",
       "|  4 | 18 | 21 | 19.5 | 134 |\n",
       "|  5 | 21 | 24 | 22.5 |  80 |\n",
       "|  6 | 24 | 27 | 25.5 |  50 |\n",
       "|  7 | 27 | 30 | 28.5 |  31 |\n",
       "|  8 | 30 | 33 | 31.5 |  28 |\n",
       "|  9 | 33 | 36 | 34.5 |  19 |\n",
       "| 10 | 36 | 39 | 37.5 |  10 |\n",
       "| 11 | 39 | 42 | 40.5 |  13 |\n",
       "| 12 | 42 | 45 | 43.5 |   6 |\n",
       "| 13 | 45 | 48 | 46.5 |   2 |\n",
       "| 14 | 48 | 51 | 49.5 |   7 |\n",
       "| 15 | 51 | 54 | 52.5 |   3 |\n",
       "| 16 | 54 | 57 | 55.5 |   7 |\n",
       "| 17 | 57 | 60 | 58.5 |   8 |\n",
       "| 18 | 60 | 63 | 61.5 |   4 |\n",
       "| 19 | 63 | 66 | 64.5 |   2 |\n",
       "| 20 | 66 | 69 | 67.5 |   3 |\n",
       "| 21 | 69 | 72 | 70.5 |   2 |\n",
       "| 22 | 72 | 75 | 73.5 |   2 |\n",
       "| 23 | 75 | 78 | 76.5 |   0 |\n",
       "| 24 | 78 | 81 | 79.5 |   1 |\n",
       "| 25 | 81 | 84 | 82.5 |   0 |\n",
       "\n"
      ],
      "text/plain": [
       "   nr.klasy początek.klasy koniec.klasy srodek.klasy liczebnosc.klasy\n",
       "1   1        9             12           10.5           2             \n",
       "2   2       12             15           13.5          42             \n",
       "3   3       15             18           16.5         162             \n",
       "4   4       18             21           19.5         134             \n",
       "5   5       21             24           22.5          80             \n",
       "6   6       24             27           25.5          50             \n",
       "7   7       27             30           28.5          31             \n",
       "8   8       30             33           31.5          28             \n",
       "9   9       33             36           34.5          19             \n",
       "10 10       36             39           37.5          10             \n",
       "11 11       39             42           40.5          13             \n",
       "12 12       42             45           43.5           6             \n",
       "13 13       45             48           46.5           2             \n",
       "14 14       48             51           49.5           7             \n",
       "15 15       51             54           52.5           3             \n",
       "16 16       54             57           55.5           7             \n",
       "17 17       57             60           58.5           8             \n",
       "18 18       60             63           61.5           4             \n",
       "19 19       63             66           64.5           2             \n",
       "20 20       66             69           67.5           3             \n",
       "21 21       69             72           70.5           2             \n",
       "22 22       72             75           73.5           2             \n",
       "23 23       75             78           76.5           0             \n",
       "24 24       78             81           79.5           1             \n",
       "25 25       81             84           82.5           0             "
      ]
     },
     "metadata": {},
     "output_type": "display_data"
    }
   ],
   "source": [
    "inclusive_series <- data.frame(nr.klasy = seq(1, k))\n",
    "inclusive_series$początek.klasy <- beginning + (inclusive_series$nr.klasy - 1)*h\n",
    "inclusive_series$koniec.klasy <- beginning + (inclusive_series$nr.klasy - 1)*h + h\n",
    "inclusive_series$srodek.klasy <- (inclusive_series$początek.klasy+inclusive_series$koniec.klasy)/2 \n",
    "inclusive_series$liczebnosc.klasy <- NA\n",
    "\n",
    "for (i in 1:k) {\n",
    "  inclusive_series$liczebnosc.klasy[i] <- \n",
    "    sum(data$Age > inclusive_series$początek.klasy[i] & data$Age <= inclusive_series$koniec.klasy[i])\n",
    "}\n",
    "\n",
    "inclusive_series"
   ]
  },
  {
   "cell_type": "code",
   "execution_count": 704,
   "metadata": {
    "vscode": {
     "languageId": "r"
    }
   },
   "outputs": [
    {
     "data": {
      "image/png": "[encoded data removed]",
      "text/plain": [
       "Plot with title \"Liczba uczestników badania\""
      ]
     },
     "metadata": {
      "image/png": {
       "height": 420,
       "width": 420
      }
     },
     "output_type": "display_data"
    }
   ],
   "source": [
    "library(\"plotly\")\n",
    "histogram <- hist(data$Age, main=\"Liczba uczestników badania\", xlab=\"Przedziały wiekowe uczestników badania w latach\", breaks=k, col=\"#57af9b\", border=\"#7A3E3E\")"
   ]
  },
  {
   "attachments": {},
   "cell_type": "markdown",
   "metadata": {},
   "source": [
    "### Szereg rozdzielczy punktowy"
   ]
  },
  {
   "cell_type": "code",
   "execution_count": 705,
   "metadata": {
    "vscode": {
     "languageId": "r"
    }
   },
   "outputs": [
    {
     "data": {
      "image/png": "[encoded data removed]",
      "text/plain": [
       "Plot with title \"Frequency Classical\""
      ]
     },
     "metadata": {
      "image/png": {
       "height": 420,
       "width": 420
      }
     },
     "output_type": "display_data"
    },
    {
     "data": {
      "image/png": "[encoded data removed]",
      "text/plain": [
       "Plot with title \"Frequency EDM\""
      ]
     },
     "metadata": {
      "image/png": {
       "height": 420,
       "width": 420
      }
     },
     "output_type": "display_data"
    },
    {
     "data": {
      "image/png": "[encoded data removed]",
      "text/plain": [
       "Plot with title \"Frequency Classical\""
      ]
     },
     "metadata": {
      "image/png": {
       "height": 420,
       "width": 420
      }
     },
     "output_type": "display_data"
    },
    {
     "data": {
      "image/png": "[encoded data removed]",
      "text/plain": [
       "Plot with title \"Frequency Country\""
      ]
     },
     "metadata": {
      "image/png": {
       "height": 420,
       "width": 420
      }
     },
     "output_type": "display_data"
    }
   ],
   "source": [
    "freq_Classical <- data.frame(opinion = c('Never', 'Rarely', 'Sometimes', 'Very Frequently'), number = matrix(table(data$Frequency..Classical.)))\n",
    "freq_Country<- data.frame(opinion = c('Never', 'Rarely', 'Sometimes', 'Very Frequently'), number = matrix(table(data$Frequency..Country.)))\n",
    "freq_EDM <- data.frame(opinion = c('Never', 'Rarely', 'Sometimes', 'Very Frequently'), number = matrix(table(data$Frequency..EDM.)))\n",
    "freq_Folk <- data.frame(opinion = c('Never', 'Rarely', 'Sometimes', 'Very Frequently'), number = matrix(table(data$Frequency..Folk.)))\n",
    "\n",
    "\n",
    "barplot(freq_Classical$number,names.arg=freq_Classical$opinion, main = \"Frequency Classical\", col=\"#6096B4\", border=\"#20262E\")\n",
    "barplot(freq_EDM$number,names.arg=freq_EDM$opinion, main = \"Frequency EDM\", col=\"#913175\", border=\"#20262E\")\n",
    "barplot(freq_Folk$number,names.arg=freq_Folk$opinion, main = \"Frequency Classical\", col=\"#CE7777\", border=\"#20262E\")\n",
    "barplot(freq_Country$number,names.arg=freq_Country$opinion, main = \"Frequency Country\", col=\"#658864\", border=\"#20262E\")\n",
    "\n",
    "\n",
    "# barplotsTogother"
   ]
  },
  {
   "attachments": {},
   "cell_type": "markdown",
   "metadata": {},
   "source": [
    "### Wartości statystyk opisowych"
   ]
  },
  {
   "attachments": {},
   "cell_type": "markdown",
   "metadata": {},
   "source": [
    "#### Miary położenia"
   ]
  },
  {
   "attachments": {},
   "cell_type": "markdown",
   "metadata": {},
   "source": [
    "Na zmienne zawierające dane pomiarowe lub liczności składają się z setek wartości. Podstawowym zadaniem w badaniach eksploracyjnych jest określenie tendencji centralnej. W przypadku podanych danych będziemy porównywać ze sobą dwie próbki - rozkład liczby godzin słuchania muzyki wśród osób, które jednocześnie preferują utwory w języku ojczystym lub zagranicznym. Dzięki temu porównamy liczbę godzin spędzonych z muzyką w trakcie dnia ze względu język, w jakim przeważnie jest słuchana."
   ]
  },
  {
   "cell_type": "code",
   "execution_count": 707,
   "metadata": {
    "vscode": {
     "languageId": "r"
    }
   },
   "outputs": [],
   "source": [
    "lang = list(foreign=c(),notforeign=c())\n",
    "for (i in 1:length(data$Foreign.languages)) {\n",
    "    if(grepl(\"Yes\",data$Foreign.languages[i])){\n",
    "        lang$foreign <- c(lang$foreign, data$Hours.per.day[i])\n",
    "    } else {\n",
    "        lang$notforeign <- c(lang$notforeign, data$Hours.per.day[i])\n",
    "    }\n",
    "}"
   ]
  },
  {
   "attachments": {},
   "cell_type": "markdown",
   "metadata": {},
   "source": [
    "Wyliczenie trach miar: średniej, mediany i dominanty:"
   ]
  },
  {
   "cell_type": "code",
   "execution_count": 708,
   "metadata": {
    "vscode": {
     "languageId": "r"
    }
   },
   "outputs": [
    {
     "data": {
      "text/html": [
       "<table class=\"dataframe\">\n",
       "<caption>A data.frame: 2 × 4</caption>\n",
       "<thead>\n",
       "\t<tr><th scope=col>film</th><th scope=col>dominanta</th><th scope=col>mediana</th><th scope=col>średnia</th></tr>\n",
       "\t<tr><th scope=col>&lt;chr&gt;</th><th scope=col>&lt;dbl&gt;</th><th scope=col>&lt;dbl&gt;</th><th scope=col>&lt;dbl&gt;</th></tr>\n",
       "</thead>\n",
       "<tbody>\n",
       "\t<tr><td>Foreign music    </td><td>2</td><td>3</td><td>3.920487</td></tr>\n",
       "\t<tr><td>Not foreign music</td><td>1</td><td>2</td><td>3.416481</td></tr>\n",
       "</tbody>\n",
       "</table>\n"
      ],
      "text/latex": [
       "A data.frame: 2 × 4\n",
       "\\begin{tabular}{llll}\n",
       " film & dominanta & mediana & średnia\\\\\n",
       " <chr> & <dbl> & <dbl> & <dbl>\\\\\n",
       "\\hline\n",
       "\t Foreign music     & 2 & 3 & 3.920487\\\\\n",
       "\t Not foreign music & 1 & 2 & 3.416481\\\\\n",
       "\\end{tabular}\n"
      ],
      "text/markdown": [
       "\n",
       "A data.frame: 2 × 4\n",
       "\n",
       "| film &lt;chr&gt; | dominanta &lt;dbl&gt; | mediana &lt;dbl&gt; | średnia &lt;dbl&gt; |\n",
       "|---|---|---|---|\n",
       "| Foreign music     | 2 | 3 | 3.920487 |\n",
       "| Not foreign music | 1 | 2 | 3.416481 |\n",
       "\n"
      ],
      "text/plain": [
       "  film              dominanta mediana średnia \n",
       "1 Foreign music     2         3       3.920487\n",
       "2 Not foreign music 1         2       3.416481"
      ]
     },
     "metadata": {},
     "output_type": "display_data"
    }
   ],
   "source": [
    "mode <- function(x) {\n",
    "  ux <- unique(x)\n",
    "  ux[which.max(tabulate(match(x, ux)))]\n",
    "}\n",
    "\n",
    "miary_centr <- data.frame(film = c(\"Foreign music\",\"Not foreign music\"),\n",
    "                          dominanta = c(mode(lang$foreign),mode(lang$notforeign)),\n",
    "                          mediana = c(median(lang$foreign),median(lang$notforeign)),\n",
    "                          średnia = c(mean(lang$foreign),mean(lang$notforeign)))\n",
    "\n",
    "miary_centr"
   ]
  },
  {
   "cell_type": "code",
   "execution_count": 709,
   "metadata": {
    "vscode": {
     "languageId": "r"
    }
   },
   "outputs": [
    {
     "data": {
      "text/plain": [
       "   Min. 1st Qu.  Median    Mean 3rd Qu.    Max. \n",
       "   0.00    2.00    3.00    3.92    5.00   24.00 "
      ]
     },
     "metadata": {},
     "output_type": "display_data"
    },
    {
     "data": {
      "text/plain": [
       "   Min. 1st Qu.  Median    Mean 3rd Qu.    Max. \n",
       "  0.000   1.000   2.000   3.416   4.000  24.000 "
      ]
     },
     "metadata": {},
     "output_type": "display_data"
    }
   ],
   "source": [
    "summary(lang$foreign)\n",
    "summary(lang$notforeign)"
   ]
  },
  {
   "attachments": {},
   "cell_type": "markdown",
   "metadata": {},
   "source": [
    "Wartości dominanty, mediany i średniej w obu zbiorach różnią się. W przypadku zagranicznej muzyki dominuje wartość 2 godzin, a środkowa wartość to 3 godziny. Wartości w drugim zbiorze są odpowiednio o 1 godzinę mniejsze. Średnie również nieznacznie się różnią. "
   ]
  },
  {
   "attachments": {},
   "cell_type": "markdown",
   "metadata": {},
   "source": [
    "Mediana jest częściej używana w statystyce niż średnia arytmetyczna ze względu na większą odporność na wartości skrajne. Średnie są silnie narażone na działanie wartości skrajnych. W tym przypadku jednak ze względu na stosunkowo małe dane można oprzeć wnioski również na średniej (po szybkiej analizie nie znalazłam wartości odstających). Na podstawie tych trzech wartości można wywnioskować, że większą popularnością cieszą się utwory zagraniczne, w języku innym niż ojczysty wśród uczestników ankiety."
   ]
  },
  {
   "attachments": {},
   "cell_type": "markdown",
   "metadata": {},
   "source": [
    "Wartości tych trzech miar wskazują skośność obserwowanego rozkładu. \n",
    "Dzięki zależności dominanta < mediana < średnia można stwierdzić, że mamy do czynienia z asymetrią prawostronną."
   ]
  },
  {
   "attachments": {},
   "cell_type": "markdown",
   "metadata": {},
   "source": [
    "#### Miary rozproszenia"
   ]
  },
  {
   "cell_type": "code",
   "execution_count": 710,
   "metadata": {
    "vscode": {
     "languageId": "r"
    }
   },
   "outputs": [
    {
     "data": {
      "text/html": [
       "<table class=\"dataframe\">\n",
       "<caption>A data.frame: 2 × 5</caption>\n",
       "<thead>\n",
       "\t<tr><th scope=col>lang</th><th scope=col>wariancja</th><th scope=col>odchylenie_st</th><th scope=col>skośność</th><th scope=col>kurtoza</th></tr>\n",
       "\t<tr><th scope=col>&lt;chr&gt;</th><th scope=col>&lt;dbl&gt;</th><th scope=col>&lt;dbl&gt;</th><th scope=col>&lt;dbl&gt;</th><th scope=col>&lt;dbl&gt;</th></tr>\n",
       "</thead>\n",
       "<tbody>\n",
       "\t<tr><td>Foreign   </td><td> 8.368839</td><td>2.892895</td><td>2.020626</td><td>10.38592</td></tr>\n",
       "\t<tr><td>Notforeign</td><td>10.623677</td><td>3.259398</td><td>2.928448</td><td>15.66503</td></tr>\n",
       "</tbody>\n",
       "</table>\n"
      ],
      "text/latex": [
       "A data.frame: 2 × 5\n",
       "\\begin{tabular}{lllll}\n",
       " lang & wariancja & odchylenie\\_st & skośność & kurtoza\\\\\n",
       " <chr> & <dbl> & <dbl> & <dbl> & <dbl>\\\\\n",
       "\\hline\n",
       "\t Foreign    &  8.368839 & 2.892895 & 2.020626 & 10.38592\\\\\n",
       "\t Notforeign & 10.623677 & 3.259398 & 2.928448 & 15.66503\\\\\n",
       "\\end{tabular}\n"
      ],
      "text/markdown": [
       "\n",
       "A data.frame: 2 × 5\n",
       "\n",
       "| lang &lt;chr&gt; | wariancja &lt;dbl&gt; | odchylenie_st &lt;dbl&gt; | skośność &lt;dbl&gt; | kurtoza &lt;dbl&gt; |\n",
       "|---|---|---|---|---|\n",
       "| Foreign    |  8.368839 | 2.892895 | 2.020626 | 10.38592 |\n",
       "| Notforeign | 10.623677 | 3.259398 | 2.928448 | 15.66503 |\n",
       "\n"
      ],
      "text/plain": [
       "  lang       wariancja odchylenie_st skośność kurtoza \n",
       "1 Foreign     8.368839 2.892895      2.020626 10.38592\n",
       "2 Notforeign 10.623677 3.259398      2.928448 15.66503"
      ]
     },
     "metadata": {},
     "output_type": "display_data"
    }
   ],
   "source": [
    "skośność <- function(x){\n",
    "    mean((x-mean(x))^3)/ (sqrt(mean((x-mean(x))^2)))^3\n",
    "}\n",
    "\n",
    "kurtoza <- function(x){\n",
    "    mean((x-mean(x))^4)/ (sqrt(mean((x-mean(x))^2)))^4\n",
    "}\n",
    "\n",
    "miary_rozpr <- data.frame(lang = c(\"Foreign\",\"Notforeign\"),\n",
    "                          wariancja = c(var(lang$foreign),var(lang$notforeign)),\n",
    "                          odchylenie_st = c(sd(lang$foreign),sd(lang$notforeign)),\n",
    "                          skośność = c(skośność(lang$foreign),skośność(lang$notforeign)),\n",
    "                          kurtoza = c(kurtoza(lang$foreign),kurtoza(lang$notforeign)))\n",
    "\n",
    "miary_rozpr"
   ]
  },
  {
   "attachments": {},
   "cell_type": "markdown",
   "metadata": {},
   "source": [
    "Na podstawie wartości wariancji i odchylenia standardowego można stwierdzić, że w obu próbkach występuje mała zmienność wyników oraz rozproszenia wokół średniej. Podobnie jak wcześniej wnioskowano, oba rozkłady są prawostronnie skośne, ponieważ miara skośności jest większa od 0. Dodatnie wartości kurtozy wskazują na większe skupienie wyników i bardziej wydłużony rozkład wartości. W obu przypadkach bardzo wysoka kurtoza oznacza, że odchylenia od średniej w wariancji wynikają głównie z rzadkich obserwacji."
   ]
  },
  {
   "attachments": {},
   "cell_type": "markdown",
   "metadata": {},
   "source": [
    "Tabela szeregu rozdzielczego:"
   ]
  },
  {
   "cell_type": "code",
   "execution_count": 711,
   "metadata": {
    "vscode": {
     "languageId": "r"
    }
   },
   "outputs": [
    {
     "data": {
      "text/html": [
       "'Szereg rodzielczy dla badanych słuchających zagranicznej muzyki:'"
      ],
      "text/latex": [
       "'Szereg rodzielczy dla badanych słuchających zagranicznej muzyki:'"
      ],
      "text/markdown": [
       "'Szereg rodzielczy dla badanych słuchających zagranicznej muzyki:'"
      ],
      "text/plain": [
       "[1] \"Szereg rodzielczy dla badanych słuchających zagranicznej muzyki:\""
      ]
     },
     "metadata": {},
     "output_type": "display_data"
    },
    {
     "data": {
      "text/html": [
       "<table class=\"dataframe\">\n",
       "<caption>A data.frame: 12 × 5</caption>\n",
       "<thead>\n",
       "\t<tr><th scope=col>nr.klasy</th><th scope=col>poczatek.klasy</th><th scope=col>koniec.klasy</th><th scope=col>srodek.klasy</th><th scope=col>liczebnosc.klasy</th></tr>\n",
       "\t<tr><th scope=col>&lt;int&gt;</th><th scope=col>&lt;dbl&gt;</th><th scope=col>&lt;dbl&gt;</th><th scope=col>&lt;dbl&gt;</th><th scope=col>&lt;int&gt;</th></tr>\n",
       "</thead>\n",
       "<tbody>\n",
       "\t<tr><td> 1</td><td> 0</td><td> 2</td><td> 1</td><td>127</td></tr>\n",
       "\t<tr><td> 2</td><td> 2</td><td> 4</td><td> 3</td><td>114</td></tr>\n",
       "\t<tr><td> 3</td><td> 4</td><td> 6</td><td> 5</td><td> 61</td></tr>\n",
       "\t<tr><td> 4</td><td> 6</td><td> 8</td><td> 7</td><td> 21</td></tr>\n",
       "\t<tr><td> 5</td><td> 8</td><td>10</td><td> 9</td><td> 16</td></tr>\n",
       "\t<tr><td> 6</td><td>10</td><td>12</td><td>11</td><td>  7</td></tr>\n",
       "\t<tr><td> 7</td><td>12</td><td>14</td><td>13</td><td>  1</td></tr>\n",
       "\t<tr><td> 8</td><td>14</td><td>16</td><td>15</td><td>  1</td></tr>\n",
       "\t<tr><td> 9</td><td>16</td><td>18</td><td>17</td><td>  0</td></tr>\n",
       "\t<tr><td>10</td><td>18</td><td>20</td><td>19</td><td>  0</td></tr>\n",
       "\t<tr><td>11</td><td>20</td><td>22</td><td>21</td><td>  0</td></tr>\n",
       "\t<tr><td>12</td><td>22</td><td>24</td><td>23</td><td>  1</td></tr>\n",
       "</tbody>\n",
       "</table>\n"
      ],
      "text/latex": [
       "A data.frame: 12 × 5\n",
       "\\begin{tabular}{lllll}\n",
       " nr.klasy & poczatek.klasy & koniec.klasy & srodek.klasy & liczebnosc.klasy\\\\\n",
       " <int> & <dbl> & <dbl> & <dbl> & <int>\\\\\n",
       "\\hline\n",
       "\t  1 &  0 &  2 &  1 & 127\\\\\n",
       "\t  2 &  2 &  4 &  3 & 114\\\\\n",
       "\t  3 &  4 &  6 &  5 &  61\\\\\n",
       "\t  4 &  6 &  8 &  7 &  21\\\\\n",
       "\t  5 &  8 & 10 &  9 &  16\\\\\n",
       "\t  6 & 10 & 12 & 11 &   7\\\\\n",
       "\t  7 & 12 & 14 & 13 &   1\\\\\n",
       "\t  8 & 14 & 16 & 15 &   1\\\\\n",
       "\t  9 & 16 & 18 & 17 &   0\\\\\n",
       "\t 10 & 18 & 20 & 19 &   0\\\\\n",
       "\t 11 & 20 & 22 & 21 &   0\\\\\n",
       "\t 12 & 22 & 24 & 23 &   1\\\\\n",
       "\\end{tabular}\n"
      ],
      "text/markdown": [
       "\n",
       "A data.frame: 12 × 5\n",
       "\n",
       "| nr.klasy &lt;int&gt; | poczatek.klasy &lt;dbl&gt; | koniec.klasy &lt;dbl&gt; | srodek.klasy &lt;dbl&gt; | liczebnosc.klasy &lt;int&gt; |\n",
       "|---|---|---|---|---|\n",
       "|  1 |  0 |  2 |  1 | 127 |\n",
       "|  2 |  2 |  4 |  3 | 114 |\n",
       "|  3 |  4 |  6 |  5 |  61 |\n",
       "|  4 |  6 |  8 |  7 |  21 |\n",
       "|  5 |  8 | 10 |  9 |  16 |\n",
       "|  6 | 10 | 12 | 11 |   7 |\n",
       "|  7 | 12 | 14 | 13 |   1 |\n",
       "|  8 | 14 | 16 | 15 |   1 |\n",
       "|  9 | 16 | 18 | 17 |   0 |\n",
       "| 10 | 18 | 20 | 19 |   0 |\n",
       "| 11 | 20 | 22 | 21 |   0 |\n",
       "| 12 | 22 | 24 | 23 |   1 |\n",
       "\n"
      ],
      "text/plain": [
       "   nr.klasy poczatek.klasy koniec.klasy srodek.klasy liczebnosc.klasy\n",
       "1   1        0              2            1           127             \n",
       "2   2        2              4            3           114             \n",
       "3   3        4              6            5            61             \n",
       "4   4        6              8            7            21             \n",
       "5   5        8             10            9            16             \n",
       "6   6       10             12           11             7             \n",
       "7   7       12             14           13             1             \n",
       "8   8       14             16           15             1             \n",
       "9   9       16             18           17             0             \n",
       "10 10       18             20           19             0             \n",
       "11 11       20             22           21             0             \n",
       "12 12       22             24           23             1             "
      ]
     },
     "metadata": {},
     "output_type": "display_data"
    },
    {
     "data": {
      "text/html": [
       "'Szereg rodzielczy dla badanych nie słuchających zagranicznej muzyki:'"
      ],
      "text/latex": [
       "'Szereg rodzielczy dla badanych nie słuchających zagranicznej muzyki:'"
      ],
      "text/markdown": [
       "'Szereg rodzielczy dla badanych nie słuchających zagranicznej muzyki:'"
      ],
      "text/plain": [
       "[1] \"Szereg rodzielczy dla badanych nie słuchających zagranicznej muzyki:\""
      ]
     },
     "metadata": {},
     "output_type": "display_data"
    },
    {
     "data": {
      "text/html": [
       "<table class=\"dataframe\">\n",
       "<caption>A data.frame: 12 × 5</caption>\n",
       "<thead>\n",
       "\t<tr><th scope=col>nr.klasy</th><th scope=col>poczatek.klasy</th><th scope=col>koniec.klasy</th><th scope=col>srodek.klasy</th><th scope=col>liczebnosc.klasy</th></tr>\n",
       "\t<tr><th scope=col>&lt;int&gt;</th><th scope=col>&lt;dbl&gt;</th><th scope=col>&lt;dbl&gt;</th><th scope=col>&lt;dbl&gt;</th><th scope=col>&lt;int&gt;</th></tr>\n",
       "</thead>\n",
       "<tbody>\n",
       "\t<tr><td> 1</td><td> 0</td><td> 2</td><td> 1</td><td>138</td></tr>\n",
       "\t<tr><td> 2</td><td> 2</td><td> 4</td><td> 3</td><td> 72</td></tr>\n",
       "\t<tr><td> 3</td><td> 4</td><td> 6</td><td> 5</td><td> 27</td></tr>\n",
       "\t<tr><td> 4</td><td> 6</td><td> 8</td><td> 7</td><td> 20</td></tr>\n",
       "\t<tr><td> 5</td><td> 8</td><td>10</td><td> 9</td><td>  6</td></tr>\n",
       "\t<tr><td> 6</td><td>10</td><td>12</td><td>11</td><td>  2</td></tr>\n",
       "\t<tr><td> 7</td><td>12</td><td>14</td><td>13</td><td>  0</td></tr>\n",
       "\t<tr><td> 8</td><td>14</td><td>16</td><td>15</td><td>  2</td></tr>\n",
       "\t<tr><td> 9</td><td>16</td><td>18</td><td>17</td><td>  1</td></tr>\n",
       "\t<tr><td>10</td><td>18</td><td>20</td><td>19</td><td>  0</td></tr>\n",
       "\t<tr><td>11</td><td>20</td><td>22</td><td>21</td><td>  0</td></tr>\n",
       "\t<tr><td>12</td><td>22</td><td>24</td><td>23</td><td>  2</td></tr>\n",
       "</tbody>\n",
       "</table>\n"
      ],
      "text/latex": [
       "A data.frame: 12 × 5\n",
       "\\begin{tabular}{lllll}\n",
       " nr.klasy & poczatek.klasy & koniec.klasy & srodek.klasy & liczebnosc.klasy\\\\\n",
       " <int> & <dbl> & <dbl> & <dbl> & <int>\\\\\n",
       "\\hline\n",
       "\t  1 &  0 &  2 &  1 & 138\\\\\n",
       "\t  2 &  2 &  4 &  3 &  72\\\\\n",
       "\t  3 &  4 &  6 &  5 &  27\\\\\n",
       "\t  4 &  6 &  8 &  7 &  20\\\\\n",
       "\t  5 &  8 & 10 &  9 &   6\\\\\n",
       "\t  6 & 10 & 12 & 11 &   2\\\\\n",
       "\t  7 & 12 & 14 & 13 &   0\\\\\n",
       "\t  8 & 14 & 16 & 15 &   2\\\\\n",
       "\t  9 & 16 & 18 & 17 &   1\\\\\n",
       "\t 10 & 18 & 20 & 19 &   0\\\\\n",
       "\t 11 & 20 & 22 & 21 &   0\\\\\n",
       "\t 12 & 22 & 24 & 23 &   2\\\\\n",
       "\\end{tabular}\n"
      ],
      "text/markdown": [
       "\n",
       "A data.frame: 12 × 5\n",
       "\n",
       "| nr.klasy &lt;int&gt; | poczatek.klasy &lt;dbl&gt; | koniec.klasy &lt;dbl&gt; | srodek.klasy &lt;dbl&gt; | liczebnosc.klasy &lt;int&gt; |\n",
       "|---|---|---|---|---|\n",
       "|  1 |  0 |  2 |  1 | 138 |\n",
       "|  2 |  2 |  4 |  3 |  72 |\n",
       "|  3 |  4 |  6 |  5 |  27 |\n",
       "|  4 |  6 |  8 |  7 |  20 |\n",
       "|  5 |  8 | 10 |  9 |   6 |\n",
       "|  6 | 10 | 12 | 11 |   2 |\n",
       "|  7 | 12 | 14 | 13 |   0 |\n",
       "|  8 | 14 | 16 | 15 |   2 |\n",
       "|  9 | 16 | 18 | 17 |   1 |\n",
       "| 10 | 18 | 20 | 19 |   0 |\n",
       "| 11 | 20 | 22 | 21 |   0 |\n",
       "| 12 | 22 | 24 | 23 |   2 |\n",
       "\n"
      ],
      "text/plain": [
       "   nr.klasy poczatek.klasy koniec.klasy srodek.klasy liczebnosc.klasy\n",
       "1   1        0              2            1           138             \n",
       "2   2        2              4            3            72             \n",
       "3   3        4              6            5            27             \n",
       "4   4        6              8            7            20             \n",
       "5   5        8             10            9             6             \n",
       "6   6       10             12           11             2             \n",
       "7   7       12             14           13             0             \n",
       "8   8       14             16           15             2             \n",
       "9   9       16             18           17             1             \n",
       "10 10       18             20           19             0             \n",
       "11 11       20             22           21             0             \n",
       "12 12       22             24           23             2             "
      ]
     },
     "metadata": {},
     "output_type": "display_data"
    }
   ],
   "source": [
    "res_foreign <- hist(lang$foreign, plot=\"FALSE\") \n",
    "freq_tab_foreign <- data.frame(nr.klasy = seq(1, length(res_foreign$counts)),\n",
    "                           poczatek.klasy  = head(res_foreign$breaks,-1),\n",
    "                           koniec.klasy    = tail(res_foreign$breaks,-1),\n",
    "                           srodek.klasy    = res_foreign$mids,\n",
    "                           liczebnosc.klasy= res_foreign$counts)\n",
    "\n",
    "res_notforeign <- hist(lang$notforeign, plot=\"FALSE\") \n",
    "freq_tab_notforeign <- data.frame(nr.klasy = seq(1, length(res_notforeign$counts)),\n",
    "                              poczatek.klasy  = head(res_notforeign$breaks,-1),\n",
    "                              koniec.klasy    = tail(res_notforeign$breaks,-1),\n",
    "                              srodek.klasy    = res_notforeign$mids,\n",
    "                              liczebnosc.klasy= res_notforeign$counts)\n",
    "\n",
    "paste(\"Szereg rodzielczy dla badanych słuchających zagranicznej muzyki:\")\n",
    "freq_tab_foreign\n",
    "paste(\"Szereg rodzielczy dla badanych nie słuchających zagranicznej muzyki:\")\n",
    "freq_tab_notforeign"
   ]
  },
  {
   "attachments": {},
   "cell_type": "markdown",
   "metadata": {},
   "source": [
    "Wizualizacja danych: <br>\n",
    "Dominanta - kolor czerwony. <br>\n",
    "Mediana - kolor niebieski. <br>\n",
    "Średnia dla próby - kolor fioletowy. <br>"
   ]
  },
  {
   "cell_type": "code",
   "execution_count": 712,
   "metadata": {
    "vscode": {
     "languageId": "r"
    }
   },
   "outputs": [
    {
     "data": {
      "image/png": "[encoded data removed]",
      "text/plain": [
       "Plot with title \"Muzyka w języku ojczystym\""
      ]
     },
     "metadata": {
      "image/png": {
       "height": 420,
       "width": 420
      }
     },
     "output_type": "display_data"
    }
   ],
   "source": [
    "par(mfrow=c(2,1))\n",
    "barplot(table(lang$foreign), main=paste(\"Muzyka w języku zagranicznym\"))\n",
    "abline(v=mean(lang$foreign), col=\"purple\")\n",
    "abline(v=mode(lang$foreign), col=\"red\")\n",
    "abline(v=median(lang$foreign), col=\"blue\")\n",
    "barplot(table(lang$notforeign), main=paste(\"Muzyka w języku ojczystym\"))\n",
    "abline(v=mean(lang$notforeign), col=\"purple\")\n",
    "abline(v=mode(lang$notforeign), col=\"red\")\n",
    "abline(v=median(lang$notforeign), col=\"blue\")"
   ]
  },
  {
   "attachments": {},
   "cell_type": "markdown",
   "metadata": {},
   "source": [
    "### Korelacja i regresja"
   ]
  },
  {
   "attachments": {},
   "cell_type": "markdown",
   "metadata": {},
   "source": [
    "Sprawdźmy, czy istnieje zależność między ocenami stanów depresji oraz lęku, które deklarują nasi badani."
   ]
  },
  {
   "cell_type": "code",
   "execution_count": 713,
   "metadata": {
    "vscode": {
     "languageId": "r"
    }
   },
   "outputs": [
    {
     "data": {
      "text/html": [
       "0.530473185769991"
      ],
      "text/latex": [
       "0.530473185769991"
      ],
      "text/markdown": [
       "0.530473185769991"
      ],
      "text/plain": [
       "[1] 0.5304732"
      ]
     },
     "metadata": {},
     "output_type": "display_data"
    },
    {
     "data": {
      "image/png": "[encoded data removed]",
      "text/plain": [
       "Plot with title \"Ocena samopoczucia\""
      ]
     },
     "metadata": {
      "image/png": {
       "height": 420,
       "width": 420
      }
     },
     "output_type": "display_data"
    }
   ],
   "source": [
    "plot(data$Depression ~ data$Anxiety, col=\"red\", main = \"Ocena samopoczucia\", xlab = \"Depression\", ylab = \"Anxiety\")\n",
    "abline(model, col=\"blue\")\n",
    "cor(data$Depression, data$Anxiety)"
   ]
  },
  {
   "cell_type": "code",
   "execution_count": 714,
   "metadata": {
    "vscode": {
     "languageId": "r"
    }
   },
   "outputs": [
    {
     "data": {
      "text/plain": [
       "\n",
       "Call:\n",
       "lm(formula = data$Depression ~ data$Anxiety, data = data)\n",
       "\n",
       "Coefficients:\n",
       " (Intercept)  data$Anxiety  \n",
       "      1.5164        0.5754  \n"
      ]
     },
     "metadata": {},
     "output_type": "display_data"
    }
   ],
   "source": [
    "model <- lm(data$Depression ~ data$Anxiety, data)\n",
    "model"
   ]
  },
  {
   "cell_type": "code",
   "execution_count": 715,
   "metadata": {
    "vscode": {
     "languageId": "r"
    }
   },
   "outputs": [
    {
     "data": {
      "text/html": [
       "<table class=\"dataframe\">\n",
       "<caption>A data.frame: 1 × 3</caption>\n",
       "<thead>\n",
       "\t<tr><th scope=col>kowariancja</th><th scope=col>korelacja</th><th scope=col>korelacja_kwadrat</th></tr>\n",
       "\t<tr><th scope=col>&lt;dbl&gt;</th><th scope=col>&lt;dbl&gt;</th><th scope=col>&lt;dbl&gt;</th></tr>\n",
       "</thead>\n",
       "<tbody>\n",
       "\t<tr><td>4.40187</td><td>0.5304732</td><td>0.2814018</td></tr>\n",
       "</tbody>\n",
       "</table>\n"
      ],
      "text/latex": [
       "A data.frame: 1 × 3\n",
       "\\begin{tabular}{lll}\n",
       " kowariancja & korelacja & korelacja\\_kwadrat\\\\\n",
       " <dbl> & <dbl> & <dbl>\\\\\n",
       "\\hline\n",
       "\t 4.40187 & 0.5304732 & 0.2814018\\\\\n",
       "\\end{tabular}\n"
      ],
      "text/markdown": [
       "\n",
       "A data.frame: 1 × 3\n",
       "\n",
       "| kowariancja &lt;dbl&gt; | korelacja &lt;dbl&gt; | korelacja_kwadrat &lt;dbl&gt; |\n",
       "|---|---|---|\n",
       "| 4.40187 | 0.5304732 | 0.2814018 |\n",
       "\n"
      ],
      "text/plain": [
       "  kowariancja korelacja korelacja_kwadrat\n",
       "1 4.40187     0.5304732 0.2814018        "
      ]
     },
     "metadata": {},
     "output_type": "display_data"
    }
   ],
   "source": [
    "measure <- data.frame(kowariancja = cov(data$Depression,data$Anxiety),\n",
    "                          korelacja = cor(data$Depression,data$Anxiety),\n",
    "                          korelacja_kwadrat = cor(data$Depression,data$Anxiety)^2)\n",
    "\n",
    "measure"
   ]
  },
  {
   "attachments": {},
   "cell_type": "markdown",
   "metadata": {},
   "source": [
    "Otrzymane wartości współczynnika korelacji podniesionego do kwadratu wskazują na średnią korelację pomiędzy ocenami stanów depresji oraz lęku wśród badanych. Kierunek tej zależności jest pozytywny, co widać na wykresie."
   ]
  },
  {
   "attachments": {},
   "cell_type": "markdown",
   "metadata": {},
   "source": [
    "#### Najważniejsze wnioski i obserwacje"
   ]
  },
  {
   "attachments": {},
   "cell_type": "markdown",
   "metadata": {},
   "source": [
    "1. Skonstrułowane na podstawie szeregów rozdzielczych dla rozkładów wieku uczestników badania oraz ocen częstotliwości słuchania danych gatunków muzycznych histogramy pokazują, że pierwszy z nich ma rozkład unimodalny, dwuwierzchołkowy, a pozostałe wymienione - głównie unimodalne, wielowierzchołkowe.\n",
    "2. W pierwszym histogramie największy peak znajduje się dla przedziału wiekowego (15, 18> lat, kolejny dla (19,21> lat. Natomiast wraz ze zwiększającymi się wartościami na osi x - liczba osób spada. W ostatniej klasie liczba ta wynosi 0.\n",
    "3. W przypadku szeregów punktowych wśród badanych atrybutów jedynie rozkład częstotliwości słuchania muzyki klasycznej jest dwustronnie symetryczny. W przypadku pozostałych trzech rozkładów - są one asymetryczne prawostronnie.\n",
    "4. Oba rozkłady dotyczące słuchania muzyki w języku ojczystym, bądź zagranicznym są prawostronne.\n",
    "5. Dodatnie wartości kurtozy w obu rozkładach wskazują na większe skupienie wyników i bardziej wydłużony rozkład wartości.\n",
    "6. Współczynnik korelacji świadczy o dość słabej, ale istniejącej zależności pomiedzy badanymi cechami: oceną samopoczucia w kwestii depresji oraz lęków. "
   ]
  },
  {
   "attachments": {},
   "cell_type": "markdown",
   "metadata": {},
   "source": [
    "### Testy statystyczne"
   ]
  },
  {
   "attachments": {},
   "cell_type": "markdown",
   "metadata": {},
   "source": [
    "#### Test T"
   ]
  },
  {
   "attachments": {},
   "cell_type": "markdown",
   "metadata": {},
   "source": [
    "Wylosujmy próbę 100 osób z bazy:"
   ]
  },
  {
   "cell_type": "code",
   "execution_count": 716,
   "metadata": {
    "vscode": {
     "languageId": "r"
    }
   },
   "outputs": [],
   "source": [
    "sampleT <- data[sample(nrow(data), 100), ]"
   ]
  },
  {
   "attachments": {},
   "cell_type": "markdown",
   "metadata": {},
   "source": [
    "W tym teście skupimy się na rozkładzie liczby beatów na minutę. Należy obliczyć średnią oraz odchylenie standardowe w naszej próbie, natomiast σ populacji jest nam nieznane. Zakładam, że dane pochodzą z rozkładu normalnego."
   ]
  },
  {
   "cell_type": "code",
   "execution_count": 717,
   "metadata": {
    "vscode": {
     "languageId": "r"
    }
   },
   "outputs": [
    {
     "data": {
      "text/html": [
       "<table class=\"dataframe\">\n",
       "<caption>A data.frame: 1 × 2</caption>\n",
       "<thead>\n",
       "\t<tr><th scope=col>średnia</th><th scope=col>odch_st</th></tr>\n",
       "\t<tr><th scope=col>&lt;dbl&gt;</th><th scope=col>&lt;dbl&gt;</th></tr>\n",
       "</thead>\n",
       "<tbody>\n",
       "\t<tr><td>124.03</td><td>35.39059</td></tr>\n",
       "</tbody>\n",
       "</table>\n"
      ],
      "text/latex": [
       "A data.frame: 1 × 2\n",
       "\\begin{tabular}{ll}\n",
       " średnia & odch\\_st\\\\\n",
       " <dbl> & <dbl>\\\\\n",
       "\\hline\n",
       "\t 124.03 & 35.39059\\\\\n",
       "\\end{tabular}\n"
      ],
      "text/markdown": [
       "\n",
       "A data.frame: 1 × 2\n",
       "\n",
       "| średnia &lt;dbl&gt; | odch_st &lt;dbl&gt; |\n",
       "|---|---|\n",
       "| 124.03 | 35.39059 |\n",
       "\n"
      ],
      "text/plain": [
       "  średnia odch_st \n",
       "1 124.03  35.39059"
      ]
     },
     "metadata": {},
     "output_type": "display_data"
    }
   ],
   "source": [
    "length_music <- data.frame(średnia = mean(sampleT$BPM),odch_st = sd(sampleT$BPM))\n",
    "length_music"
   ]
  },
  {
   "attachments": {},
   "cell_type": "markdown",
   "metadata": {},
   "source": [
    "Sprawdzając średnią liczbę uderzeń w próbie i odchylenie standardowe można sformułować pytanie, czy średnio w całej populacji są to 124 uderzenia na minutę w słuchanych utworach."
   ]
  },
  {
   "cell_type": "code",
   "execution_count": 718,
   "metadata": {
    "vscode": {
     "languageId": "r"
    }
   },
   "outputs": [
    {
     "data": {
      "image/png": "[encoded data removed]",
      "text/plain": [
       "Plot with title \"Liczba beatów na minutę\""
      ]
     },
     "metadata": {
      "image/png": {
       "height": 420,
       "width": 420
      }
     },
     "output_type": "display_data"
    }
   ],
   "source": [
    "hist(sampleT$BPM, main=\"Liczba beatów na minutę\", xlab=\"bpm\", col=\"#99627A\", border=\"#E57C23\")"
   ]
  },
  {
   "attachments": {},
   "cell_type": "markdown",
   "metadata": {},
   "source": [
    "Warunki testu T są spełnione. Hipotezy do testu dwustronnego:"
   ]
  },
  {
   "attachments": {},
   "cell_type": "markdown",
   "metadata": {},
   "source": [
    "H0: µ = 124 <br>\n",
    "H1: µ != 124"
   ]
  },
  {
   "cell_type": "code",
   "execution_count": 719,
   "metadata": {
    "vscode": {
     "languageId": "r"
    }
   },
   "outputs": [],
   "source": [
    "alpha = 0.01"
   ]
  },
  {
   "attachments": {},
   "cell_type": "markdown",
   "metadata": {},
   "source": [
    "Zbiór krytyczny:"
   ]
  },
  {
   "cell_type": "code",
   "execution_count": 720,
   "metadata": {
    "vscode": {
     "languageId": "r"
    }
   },
   "outputs": [
    {
     "data": {
      "text/html": [
       "2.62640545728083"
      ],
      "text/latex": [
       "2.62640545728083"
      ],
      "text/markdown": [
       "2.62640545728083"
      ],
      "text/plain": [
       "[1] 2.626405"
      ]
     },
     "metadata": {},
     "output_type": "display_data"
    }
   ],
   "source": [
    "df_t <- length(sampleT$BPM) - 1\n",
    "qt(1 - (alpha / 2), df_t)"
   ]
  },
  {
   "cell_type": "code",
   "execution_count": 721,
   "metadata": {
    "vscode": {
     "languageId": "r"
    }
   },
   "outputs": [
    {
     "data": {
      "text/html": [
       "'Zbiór krytyczny: (-∞,- 2.63 ) ∪ ( 2.63 ,+∞)'"
      ],
      "text/latex": [
       "'Zbiór krytyczny: (-∞,- 2.63 ) ∪ ( 2.63 ,+∞)'"
      ],
      "text/markdown": [
       "'Zbiór krytyczny: (-∞,- 2.63 ) ∪ ( 2.63 ,+∞)'"
      ],
      "text/plain": [
       "[1] \"Zbiór krytyczny: (-∞,- 2.63 ) ∪ ( 2.63 ,+∞)\""
      ]
     },
     "metadata": {},
     "output_type": "display_data"
    }
   ],
   "source": [
    "zk <- round(qt(1 - (alpha / 2), df_t),2)\n",
    "paste(\"Zbiór krytyczny: (-∞,-\",zk,\") ∪ (\",zk,\",+∞)\")"
   ]
  },
  {
   "attachments": {},
   "cell_type": "markdown",
   "metadata": {},
   "source": [
    "Wartość statystyki testowej przy założeniu prawdziwości hipotezy zerowej:"
   ]
  },
  {
   "cell_type": "code",
   "execution_count": 722,
   "metadata": {
    "vscode": {
     "languageId": "r"
    }
   },
   "outputs": [
    {
     "data": {
      "text/html": [
       "0.0210901051575368"
      ],
      "text/latex": [
       "0.0210901051575368"
      ],
      "text/markdown": [
       "0.0210901051575368"
      ],
      "text/plain": [
       "[1] 0.02109011"
      ]
     },
     "metadata": {},
     "output_type": "display_data"
    }
   ],
   "source": [
    "p <- mean(sampleT$BPM)\n",
    "p0 <- 124\n",
    "stdev <- sd(sampleT$BPM)\n",
    "T <- (p - p0) / stdev * sqrt(n)\n",
    "T"
   ]
  },
  {
   "attachments": {},
   "cell_type": "markdown",
   "metadata": {},
   "source": [
    "Wartość statystyki tekstowej nie wchodzi w zakres zbioru krytycznego - nie ma podstaw do odrzucenia hipotezy zerowej."
   ]
  },
  {
   "attachments": {},
   "cell_type": "markdown",
   "metadata": {},
   "source": [
    "#### Test χ2 (niezależność)"
   ]
  },
  {
   "attachments": {},
   "cell_type": "markdown",
   "metadata": {},
   "source": [
    "Test niezależności chi-kwadrat jest popularnym testem statystycznym wykorzystywanym w badaniach, gdzie stawiamy pytania badawcze dotyczące tego, czy jedna ze zmiennych jest zależna od innej. Warunkiem jego wykorzystania jest to, by zmienne były zmiennymi jakościowymi. Sformułowanie hipotezy:"
   ]
  },
  {
   "attachments": {},
   "cell_type": "markdown",
   "metadata": {},
   "source": [
    "H0 : Analizowane zmienne są niezależne. <br>\n",
    "H1 : Analizowane zmienne są zależne."
   ]
  },
  {
   "attachments": {},
   "cell_type": "markdown",
   "metadata": {},
   "source": [
    "Próg istotności:"
   ]
  },
  {
   "cell_type": "code",
   "execution_count": 723,
   "metadata": {
    "vscode": {
     "languageId": "r"
    }
   },
   "outputs": [],
   "source": [
    "alpha = 0.05"
   ]
  },
  {
   "attachments": {},
   "cell_type": "markdown",
   "metadata": {},
   "source": [
    "Losowa próba 200 osób:"
   ]
  },
  {
   "cell_type": "code",
   "execution_count": 724,
   "metadata": {
    "vscode": {
     "languageId": "r"
    }
   },
   "outputs": [],
   "source": [
    "library(\"dplyr\")\n",
    "sample <- data %>% sample_n(200)"
   ]
  },
  {
   "cell_type": "code",
   "execution_count": 725,
   "metadata": {
    "vscode": {
     "languageId": "r"
    }
   },
   "outputs": [
    {
     "data": {
      "text/plain": [
       "     \n",
       "      Improve No effect\n",
       "  No       34        13\n",
       "  Yes     120        33"
      ]
     },
     "metadata": {},
     "output_type": "display_data"
    }
   ],
   "source": [
    "whileWorking_musicEffects <- table(sample$While.working, sample$Music.effects)\n",
    "whileWorking_musicEffects"
   ]
  },
  {
   "cell_type": "code",
   "execution_count": 726,
   "metadata": {
    "vscode": {
     "languageId": "r"
    }
   },
   "outputs": [
    {
     "data": {
      "image/png": "[encoded data removed]",
      "text/plain": [
       "Plot with title \"Wpływ muzyki w zależności od słuchania jej podczas pracy\""
      ]
     },
     "metadata": {
      "image/png": {
       "height": 420,
       "width": 420
      }
     },
     "output_type": "display_data"
    }
   ],
   "source": [
    "plot(whileWorking_musicEffects, main=\"Wpływ muzyki w zależności od słuchania jej podczas pracy\", col=\"#E8A9A9\", border=\"#46458C\")"
   ]
  },
  {
   "attachments": {},
   "cell_type": "markdown",
   "metadata": {},
   "source": [
    "Sumy obserwacji oraz liczebności brzegowe:"
   ]
  },
  {
   "cell_type": "code",
   "execution_count": 727,
   "metadata": {
    "vscode": {
     "languageId": "r"
    }
   },
   "outputs": [],
   "source": [
    "margin_rows <- margin.table(whileWorking_musicEffects, 1)\n",
    "margin_cols <- margin.table(whileWorking_musicEffects, 2)\n",
    "total <- sum(margin_rows)"
   ]
  },
  {
   "attachments": {},
   "cell_type": "markdown",
   "metadata": {},
   "source": [
    "Liczba stopni swobody:"
   ]
  },
  {
   "cell_type": "code",
   "execution_count": 728,
   "metadata": {
    "vscode": {
     "languageId": "r"
    }
   },
   "outputs": [],
   "source": [
    "df <- (length(margin_rows)-1)*(length(margin_cols)-1)"
   ]
  },
  {
   "attachments": {},
   "cell_type": "markdown",
   "metadata": {},
   "source": [
    "Tablica wartości oczekiwanych dzięki funkcji <i>outer(margin_rows, margin_cols)</i>, wykonującej iloczyn zewnętrzny/Kroneckera (iloczyny wszystkich kombinacji współrzędnych wektorów)."
   ]
  },
  {
   "cell_type": "code",
   "execution_count": 729,
   "metadata": {
    "vscode": {
     "languageId": "r"
    }
   },
   "outputs": [
    {
     "data": {
      "text/html": [
       "<table class=\"dataframe\">\n",
       "<caption>A matrix: 2 × 2 of type dbl</caption>\n",
       "<thead>\n",
       "\t<tr><th></th><th scope=col>Improve</th><th scope=col>No effect</th></tr>\n",
       "</thead>\n",
       "<tbody>\n",
       "\t<tr><th scope=row>No</th><td> 36.19</td><td>10.81</td></tr>\n",
       "\t<tr><th scope=row>Yes</th><td>117.81</td><td>35.19</td></tr>\n",
       "</tbody>\n",
       "</table>\n"
      ],
      "text/latex": [
       "A matrix: 2 × 2 of type dbl\n",
       "\\begin{tabular}{r|ll}\n",
       "  & Improve & No effect\\\\\n",
       "\\hline\n",
       "\tNo &  36.19 & 10.81\\\\\n",
       "\tYes & 117.81 & 35.19\\\\\n",
       "\\end{tabular}\n"
      ],
      "text/markdown": [
       "\n",
       "A matrix: 2 × 2 of type dbl\n",
       "\n",
       "| <!--/--> | Improve | No effect |\n",
       "|---|---|---|\n",
       "| No |  36.19 | 10.81 |\n",
       "| Yes | 117.81 | 35.19 |\n",
       "\n"
      ],
      "text/plain": [
       "     \n",
       "      Improve No effect\n",
       "  No   36.19  10.81    \n",
       "  Yes 117.81  35.19    "
      ]
     },
     "metadata": {},
     "output_type": "display_data"
    }
   ],
   "source": [
    "E = outer(margin_rows, margin_cols) / total\n",
    "E"
   ]
  },
  {
   "attachments": {},
   "cell_type": "markdown",
   "metadata": {},
   "source": [
    "Wartość statystyki testowej:"
   ]
  },
  {
   "cell_type": "code",
   "execution_count": 730,
   "metadata": {
    "vscode": {
     "languageId": "r"
    }
   },
   "outputs": [
    {
     "data": {
      "text/html": [
       "0.753200111093129"
      ],
      "text/latex": [
       "0.753200111093129"
      ],
      "text/markdown": [
       "0.753200111093129"
      ],
      "text/plain": [
       "[1] 0.7532001"
      ]
     },
     "metadata": {},
     "output_type": "display_data"
    }
   ],
   "source": [
    "chi2  <- sum((whileWorking_musicEffects - E)^2/E)\n",
    "chi2"
   ]
  },
  {
   "attachments": {},
   "cell_type": "markdown",
   "metadata": {},
   "source": [
    "Wartość krytyczna:"
   ]
  },
  {
   "cell_type": "code",
   "execution_count": 731,
   "metadata": {
    "vscode": {
     "languageId": "r"
    }
   },
   "outputs": [
    {
     "data": {
      "text/html": [
       "3.84145882069412"
      ],
      "text/latex": [
       "3.84145882069412"
      ],
      "text/markdown": [
       "3.84145882069412"
      ],
      "text/plain": [
       "[1] 3.841459"
      ]
     },
     "metadata": {},
     "output_type": "display_data"
    }
   ],
   "source": [
    "qchisq(1 - alpha, df)"
   ]
  },
  {
   "attachments": {},
   "cell_type": "markdown",
   "metadata": {},
   "source": [
    "Wartość statystyki testowej jest większa od wartości krytycznej. Zatem odrzucamy hipotezę zerową."
   ]
  },
  {
   "cell_type": "code",
   "execution_count": 732,
   "metadata": {
    "vscode": {
     "languageId": "r"
    }
   },
   "outputs": [
    {
     "data": {
      "text/plain": [
       "\n",
       "\tPearson's Chi-squared test\n",
       "\n",
       "data:  whileWorking_musicEffects\n",
       "X-squared = 0.7532, df = 1, p-value = 0.3855\n"
      ]
     },
     "metadata": {},
     "output_type": "display_data"
    }
   ],
   "source": [
    "chisq.test(whileWorking_musicEffects, correct=FALSE)"
   ]
  },
  {
   "attachments": {},
   "cell_type": "markdown",
   "metadata": {},
   "source": [
    "#### Test χ2 (zgodność z rozkładem)"
   ]
  },
  {
   "attachments": {},
   "cell_type": "markdown",
   "metadata": {},
   "source": [
    "Test do analizowania danych jakościowych w celu sprawdzenia, czy dane (próba 120 os.) mają określony rozkład. Oczekujemy, że podane niżej serwisy streamingowe mają równy rozkład. Sprawdźmy, czy rozkłady są takie same. Sformułowanie hipotezy:"
   ]
  },
  {
   "attachments": {},
   "cell_type": "markdown",
   "metadata": {},
   "source": [
    "H0 : rozkłady są takie same<br>\n",
    "H1 : rozkłady są różne "
   ]
  },
  {
   "attachments": {},
   "cell_type": "markdown",
   "metadata": {},
   "source": [
    "Próg istotności:"
   ]
  },
  {
   "cell_type": "code",
   "execution_count": 733,
   "metadata": {
    "vscode": {
     "languageId": "r"
    }
   },
   "outputs": [],
   "source": [
    "alpha = 0.05"
   ]
  },
  {
   "cell_type": "code",
   "execution_count": 734,
   "metadata": {
    "vscode": {
     "languageId": "r"
    }
   },
   "outputs": [
    {
     "data": {
      "text/html": [
       "<table class=\"dataframe\">\n",
       "<caption>A data.frame: 6 × 2</caption>\n",
       "<thead>\n",
       "\t<tr><th scope=col>opinion</th><th scope=col>number</th></tr>\n",
       "\t<tr><th scope=col>&lt;chr&gt;</th><th scope=col>&lt;int&gt;</th></tr>\n",
       "</thead>\n",
       "<tbody>\n",
       "\t<tr><td>Apple Music                      </td><td> 7</td></tr>\n",
       "\t<tr><td>I do not use a streaming service.</td><td>10</td></tr>\n",
       "\t<tr><td>Other streaming service          </td><td> 4</td></tr>\n",
       "\t<tr><td>Pandora                          </td><td> 3</td></tr>\n",
       "\t<tr><td>Spotify                          </td><td>88</td></tr>\n",
       "\t<tr><td>YouTube Music                    </td><td> 8</td></tr>\n",
       "</tbody>\n",
       "</table>\n"
      ],
      "text/latex": [
       "A data.frame: 6 × 2\n",
       "\\begin{tabular}{ll}\n",
       " opinion & number\\\\\n",
       " <chr> & <int>\\\\\n",
       "\\hline\n",
       "\t Apple Music                       &  7\\\\\n",
       "\t I do not use a streaming service. & 10\\\\\n",
       "\t Other streaming service           &  4\\\\\n",
       "\t Pandora                           &  3\\\\\n",
       "\t Spotify                           & 88\\\\\n",
       "\t YouTube Music                     &  8\\\\\n",
       "\\end{tabular}\n"
      ],
      "text/markdown": [
       "\n",
       "A data.frame: 6 × 2\n",
       "\n",
       "| opinion &lt;chr&gt; | number &lt;int&gt; |\n",
       "|---|---|\n",
       "| Apple Music                       |  7 |\n",
       "| I do not use a streaming service. | 10 |\n",
       "| Other streaming service           |  4 |\n",
       "| Pandora                           |  3 |\n",
       "| Spotify                           | 88 |\n",
       "| YouTube Music                     |  8 |\n",
       "\n"
      ],
      "text/plain": [
       "  opinion                           number\n",
       "1 Apple Music                        7    \n",
       "2 I do not use a streaming service. 10    \n",
       "3 Other streaming service            4    \n",
       "4 Pandora                            3    \n",
       "5 Spotify                           88    \n",
       "6 YouTube Music                      8    "
      ]
     },
     "metadata": {},
     "output_type": "display_data"
    }
   ],
   "source": [
    "library(\"dplyr\")\n",
    "sample2 <- data %>% sample_n(120)\n",
    "\n",
    "sampleServices <- data.frame(opinion = c('Apple Music', 'I do not use a streaming service.', 'Other streaming service', 'Pandora', 'Spotify', 'YouTube Music'), number = matrix(table(sample2$Primary.streaming.service)))\n",
    "sampleServices\n"
   ]
  },
  {
   "cell_type": "markdown",
   "metadata": {},
   "source": [
    "Liczba stopni swobody:"
   ]
  },
  {
   "cell_type": "code",
   "execution_count": 735,
   "metadata": {
    "vscode": {
     "languageId": "r"
    }
   },
   "outputs": [],
   "source": [
    "dfServices <- length(sampleServices$number)-1"
   ]
  },
  {
   "attachments": {},
   "cell_type": "markdown",
   "metadata": {},
   "source": [
    "Tabela wartości oczekiwanych (rozkład nie jest równy ze względu na popularność jednego z serwisów - Spotify - przyjmując takie proporcje zwiększamy rzetelność testu):"
   ]
  },
  {
   "cell_type": "code",
   "execution_count": 736,
   "metadata": {
    "vscode": {
     "languageId": "r"
    }
   },
   "outputs": [],
   "source": [
    "Expected <- c(10, 20, 20, 10, 40, 20)"
   ]
  },
  {
   "attachments": {},
   "cell_type": "markdown",
   "metadata": {},
   "source": [
    "Wartość statystyki testowej:"
   ]
  },
  {
   "cell_type": "code",
   "execution_count": 737,
   "metadata": {
    "vscode": {
     "languageId": "r"
    }
   },
   "outputs": [
    {
     "data": {
      "text/html": [
       "88.4"
      ],
      "text/latex": [
       "88.4"
      ],
      "text/markdown": [
       "88.4"
      ],
      "text/plain": [
       "[1] 88.4"
      ]
     },
     "metadata": {},
     "output_type": "display_data"
    }
   ],
   "source": [
    "chi2 <- sum((sampleServices$number-Expected)^2/Expected)\n",
    "chi2"
   ]
  },
  {
   "attachments": {},
   "cell_type": "markdown",
   "metadata": {},
   "source": [
    "Wartość krytyczna:"
   ]
  },
  {
   "cell_type": "code",
   "execution_count": 738,
   "metadata": {
    "vscode": {
     "languageId": "r"
    }
   },
   "outputs": [
    {
     "data": {
      "text/html": [
       "11.0704976935164"
      ],
      "text/latex": [
       "11.0704976935164"
      ],
      "text/markdown": [
       "11.0704976935164"
      ],
      "text/plain": [
       "[1] 11.0705"
      ]
     },
     "metadata": {},
     "output_type": "display_data"
    }
   ],
   "source": [
    "qchisq(1 - alpha, dfServices)"
   ]
  },
  {
   "attachments": {},
   "cell_type": "markdown",
   "metadata": {},
   "source": [
    "Wartość krytyczna jest zdecydowanie mniejsza niż wartość statystyki testowej (znajdujemy się w obszarze krytycznym) - odrzucamy hipotezę zerową. Zatem rozkłady są różne."
   ]
  },
  {
   "attachments": {},
   "cell_type": "markdown",
   "metadata": {},
   "source": [
    "### Wnioski i obserwacje"
   ]
  },
  {
   "attachments": {},
   "cell_type": "markdown",
   "metadata": {},
   "source": [
    "1. Aby zaanalizować średnią liczbę beatów na minutę w słuchanych przez badanych utworach wykorzystany został test T. Przy poziomie istotności α = 0.01 nie było podstaw do odrzucenia hipotezy zerowej, która mówi, że średnia liczba uderzeń na minutę to 124.\n",
    "2. Przeprowadzenie testów ch-kwadrat pozwoliło zbadać zależności pomiędzy rozkładami. Pierwszym statystycznie potwierdzonym stwierdzeniem jest to, że słuchanie muzyki w trakcie pracy oraz wpływ muzyki na samopoczucie są ze sobą powiązane. Innym wnioskiem jest fakt, iż jest mocna nierówność wśród serwisów streamingowych. Zdecydowanym faworytem wśród słuchaczy jest aplikacja Spotify, co zostało udowodnione testem chi-kwadrat, w którym już z góry zostały załozone nierówne proporcje, a i tak hipoteza zerowa została odrzucona.\n",
    "\n",
    "Przeprowadzona analiza obejmowała różnorodne aspekty i cechy zawarte w wybranej bazie danych. W jej trakcie starałam się zbadać jak najwięcej atrybutów i powiązań między nimi w sposób graficzny, jak i poprzez różne testy. Moim głównym pytaniem, które towarzyszyło mi przez cały czas ich badania to, jaki wpływ ma na nas słuchanie muzyki. Mam nadzieję, że udało mi się odpowiedzieć na to ciekawe zagadnienie, korzystając z zależności między nimi oraz prognoz, które podlegały statystycznemu potwierdzeniu."
   ]
  },
  {
   "attachments": {},
   "cell_type": "markdown",
   "metadata": {},
   "source": [
    "##### Propozycje dalszych kroków\n"
   ]
  },
  {
   "attachments": {},
   "cell_type": "markdown",
   "metadata": {},
   "source": [
    "W ramach kontynuacji projektu należy zrobić głębszy research w ramach tego tematu. Zagadnienie odnośnie terapii poprzez muzykę jest dopiero badane, ale powstało wiele dokładniejszych opracowań i zbiorów danych, które mogłyby posłużyć lepszej analizie. Postawione tezy mogłyby być bardziej szczegółowe, a wnioski jeszcze ciekawsze."
   ]
  },
  {
   "attachments": {},
   "cell_type": "markdown",
   "metadata": {},
   "source": [
    "### Bibliografia\n",
    "1. https://statystyka.online/miary-tendencji-centralnej-teoria/\n",
    "2. https://predictivesolutions.pl/test-niezaleznosci-chi-kwadrat-pearsona\n",
    "3. https://www.tutorialspoint.com/r/r_bar_charts.htm\n",
    "4. https://www.rdocumentation.org/\n"
   ]
  }
 ],
 "metadata": {
  "kernelspec": {
   "display_name": "R",
   "language": "R",
   "name": "ir"
  },
  "language_info": {
   "codemirror_mode": "r",
   "file_extension": ".r",
   "mimetype": "text/x-r-source",
   "name": "R",
   "pygments_lexer": "r",
   "version": "4.3.0"
  },
  "orig_nbformat": 4
 },
 "nbformat": 4,
 "nbformat_minor": 2
}
